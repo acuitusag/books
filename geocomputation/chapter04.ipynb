{
 "cells": [
  {
   "cell_type": "markdown",
   "id": "1102531a",
   "metadata": {},
   "source": [
    "# Chapter 4: Geometry operations\n",
    "### Prerequisites"
   ]
  },
  {
   "cell_type": "code",
   "execution_count": null,
   "id": "573eba52",
   "metadata": {},
   "outputs": [],
   "source": [
    "import sys\n",
    "import numpy as np\n",
    "import matplotlib.pyplot as plt\n",
    "import pandas as pd\n",
    "import shapely\n",
    "import geopandas as gpd\n",
    "import topojson as tp\n",
    "import rasterio\n",
    "import rasterio.plot\n",
    "import rasterio.warp\n",
    "import rasterio.mask"
   ]
  },
  {
   "cell_type": "code",
   "execution_count": null,
   "id": "e201473d",
   "metadata": {},
   "outputs": [],
   "source": [
    "data_path = \"F:\\\\books\\\\geocompy-main\\\\data\\\\\"\n",
    "output_path = \"F:\\\\books\\\\geocompy-main\\\\output\\\\\"\n",
    "\n",
    "seine = gpd.read_file(data_path + 'seine.gpkg')\n",
    "us_states = gpd.read_file(data_path + 'us_states.gpkg')\n",
    "nz = gpd.read_file(data_path + 'nz.gpkg')\n",
    "src = rasterio.open(data_path + 'dem.tif')\n",
    "src_elev = rasterio.open(output_path + 'elev.tif')"
   ]
  },
  {
   "cell_type": "markdown",
   "id": "ff69889c",
   "metadata": {},
   "source": [
    "## 4.2 Geometric operations on vector data\n",
    "### 4.2.1 Simplication"
   ]
  },
  {
   "cell_type": "code",
   "execution_count": null,
   "id": "29025f89",
   "metadata": {},
   "outputs": [],
   "source": [
    "seine_simp = seine.simplify(tolerance=2000)\n",
    "\n",
    "fig, ax = plt.subplots(1, 2)\n",
    "seine.plot(ax=ax[0], color='blue', edgecolor='black')\n",
    "seine_simp.plot(ax=ax[1], color='red', edgecolor='black')"
   ]
  },
  {
   "cell_type": "code",
   "execution_count": null,
   "id": "f89709fe",
   "metadata": {},
   "outputs": [],
   "source": [
    "print(f'Original: {sys.getsizeof(seine)} bytes')\n",
    "print(f'Simplified: {sys.getsizeof(seine_simp)} bytes')"
   ]
  },
  {
   "cell_type": "code",
   "execution_count": null,
   "id": "c1bdb175",
   "metadata": {},
   "outputs": [],
   "source": [
    "us_states9311 = us_states.to_crs(epsg=9311)\n",
    "us_states_simp1 = us_states9311.simplify(100_000)\n",
    "\n",
    "topo = tp.Topology(us_states9311, prequantize=False)\n",
    "us_states_simp2 = topo.toposimplify(100_000).to_gdf()\n",
    "\n",
    "fig, ax = plt.subplots(1, 3, figsize=(15, 5))\n",
    "us_states9311.plot(ax=ax[0], color='lightgrey', edgecolor='black')\n",
    "us_states_simp1.plot(ax=ax[1], color='red', edgecolor='black')\n",
    "us_states_simp2.plot(ax=ax[2], color='blue', edgecolor='black')"
   ]
  },
  {
   "cell_type": "markdown",
   "id": "f37cd809",
   "metadata": {},
   "source": [
    "### 4.2.2 Centroids"
   ]
  },
  {
   "cell_type": "code",
   "execution_count": null,
   "id": "a085c2a9",
   "metadata": {},
   "outputs": [],
   "source": [
    "nz_centroid = nz.centroid\n",
    "seine_centroid = seine.centroid\n",
    "\n",
    "nz_pos = nz.representative_point()\n",
    "seine_pos = seine.representative_point()"
   ]
  },
  {
   "cell_type": "code",
   "execution_count": null,
   "id": "ef99d7b9",
   "metadata": {},
   "outputs": [],
   "source": [
    "base = nz.plot(color='white', edgecolor='lightgrey')\n",
    "nz_centroid.plot(ax=base, color='red', markersize=5)\n",
    "nz_pos.plot(ax=base, color='blue', markersize=5)"
   ]
  },
  {
   "cell_type": "code",
   "execution_count": null,
   "id": "8aa6fedd",
   "metadata": {},
   "outputs": [],
   "source": [
    "base = seine.plot(color='grey')\n",
    "seine_centroid.plot(ax=base, color='red', markersize=5)\n",
    "seine_pos.plot(ax=base, color='blue', markersize=5)"
   ]
  },
  {
   "cell_type": "markdown",
   "id": "80bbb6b1",
   "metadata": {},
   "source": [
    "### 4.2.3 Buffers"
   ]
  },
  {
   "cell_type": "code",
   "execution_count": null,
   "id": "3c356071",
   "metadata": {},
   "outputs": [],
   "source": [
    "seine_buff_5km = seine.buffer(5_000)\n",
    "seine_buff_50km = seine.buffer(50_000)"
   ]
  },
  {
   "cell_type": "code",
   "execution_count": null,
   "id": "7bdf9a18",
   "metadata": {},
   "outputs": [],
   "source": [
    "fig, ax = plt.subplots(1, 2, figsize=(10, 5))\n",
    "seine_buff_5km.plot(ax=ax[0], color='none', edgecolor=['blue', 'red', 'green'], linewidth=2)\n",
    "seine_buff_50km.plot(ax=ax[1], color='none', edgecolor=['blue', 'red', 'green'], linewidth=2)"
   ]
  },
  {
   "cell_type": "code",
   "execution_count": null,
   "id": "d88999fb",
   "metadata": {},
   "outputs": [],
   "source": [
    "seine_buff_5km = seine.copy()\n",
    "seine_buff_5km.geometry = seine.buffer(5000)\n",
    "seine_buff_5km"
   ]
  },
  {
   "cell_type": "code",
   "execution_count": null,
   "id": "08c7c806",
   "metadata": {},
   "outputs": [],
   "source": [
    "seine['geometry_5km'] = seine.buffer(5000)\n",
    "seine"
   ]
  },
  {
   "cell_type": "code",
   "execution_count": null,
   "id": "4a4732ad",
   "metadata": {},
   "outputs": [],
   "source": [
    "seine = seine.set_geometry('geometry_5km')\n",
    "seine.plot(color=['blue', 'red', 'green'], edgecolor=['blue', 'red', 'green'], linewidth=2)"
   ]
  },
  {
   "cell_type": "code",
   "execution_count": null,
   "id": "6bd994a6",
   "metadata": {},
   "outputs": [],
   "source": [
    "seine = seine.set_geometry('geometry')\n",
    "seine = seine.drop('geometry_5km', axis=1)\n",
    "seine"
   ]
  },
  {
   "cell_type": "markdown",
   "id": "4aec394f",
   "metadata": {},
   "source": [
    "### Affine transformations"
   ]
  },
  {
   "cell_type": "code",
   "execution_count": null,
   "id": "e15e0c94",
   "metadata": {},
   "outputs": [],
   "source": [
    "nz_shift = nz.translate(0, 100_000)\n",
    "\n",
    "base = nz.plot(color='white', edgecolor='lightgrey')\n",
    "nz_shift.plot(ax=base, color='red', edgecolor='black')"
   ]
  },
  {
   "cell_type": "code",
   "execution_count": null,
   "id": "4ad96b53",
   "metadata": {},
   "outputs": [],
   "source": [
    "nz_scale = nz.scale(0.5, 0.5, origin='centroid')\n",
    "base = nz.plot(color='white', edgecolor='lightgrey')\n",
    "nz_scale.plot(ax=base, color='red', edgecolor='black')"
   ]
  },
  {
   "cell_type": "code",
   "execution_count": null,
   "id": "89d11d73",
   "metadata": {},
   "outputs": [],
   "source": [
    "nz_rotate = nz.rotate(-30, origin='centroid')\n",
    "base = nz.plot(color='white', edgecolor='lightgrey')\n",
    "nz_shift.plot(ax=base, color='red', edgecolor='black')"
   ]
  },
  {
   "cell_type": "code",
   "execution_count": null,
   "id": "1884163c",
   "metadata": {},
   "outputs": [],
   "source": [
    "fig, ax = plt.subplots(1, 3, figsize=(15, 5))\n",
    "nz.plot(ax=ax[0], color='white', edgecolor='lightgrey')\n",
    "nz_shift.plot(ax=ax[0], color='green', edgecolor='lightgrey')\n",
    "ax[0].set_title('Shift')\n",
    "nz.plot(ax=ax[1], color='white', edgecolor='lightgrey')\n",
    "nz_rotate.plot(ax=ax[1], color='red', edgecolor='black')\n",
    "ax[1].set_title('Rotate')\n",
    "nz.plot(ax=ax[2], color='white', edgecolor='lightgrey')\n",
    "nz_scale.plot(ax=ax[2], color='blue', edgecolor='black')\n",
    "ax[2].set_title('Scale')"
   ]
  },
  {
   "cell_type": "markdown",
   "id": "feb0baf1",
   "metadata": {},
   "source": [
    "### 4.2.5 Pairwise geometry-generating operations"
   ]
  },
  {
   "cell_type": "code",
   "execution_count": null,
   "id": "48ecc6d7",
   "metadata": {},
   "outputs": [],
   "source": [
    "x = shapely.Point((0, 0)).buffer(1)\n",
    "y = shapely.Point((1, 0)).buffer(1)\n",
    "shapely.GeometryCollection([x, y])"
   ]
  },
  {
   "cell_type": "code",
   "execution_count": null,
   "id": "0db4d45f",
   "metadata": {},
   "outputs": [],
   "source": [
    "x.intersection(y)"
   ]
  },
  {
   "cell_type": "code",
   "execution_count": null,
   "id": "a88cc94c",
   "metadata": {},
   "outputs": [],
   "source": [
    "x.difference(y)"
   ]
  },
  {
   "cell_type": "code",
   "execution_count": null,
   "id": "ae92b97e",
   "metadata": {},
   "outputs": [],
   "source": [
    "x.union(y)"
   ]
  },
  {
   "cell_type": "code",
   "execution_count": null,
   "id": "7bdab1b5",
   "metadata": {},
   "outputs": [],
   "source": [
    "x.symmetric_difference(y)"
   ]
  },
  {
   "cell_type": "code",
   "execution_count": null,
   "id": "4121fb0b",
   "metadata": {},
   "outputs": [],
   "source": [
    "geom1 = gpd.GeoSeries(x)\n",
    "geom2 = geom1.translate(0, 1)\n",
    "geom3 = geom1.translate(0, 2)\n",
    "geom = pd.concat([geom1, geom2, geom3])\n",
    "geom"
   ]
  },
  {
   "cell_type": "code",
   "execution_count": null,
   "id": "31c0b487",
   "metadata": {},
   "outputs": [],
   "source": [
    "fig, ax = plt.subplots()\n",
    "geom.plot(ax=ax, color='#00000030', edgecolor='black')\n",
    "gpd.GeoSeries(y).plot(ax=ax, color='red', edgecolor='black', alpha=0.3)\n"
   ]
  },
  {
   "cell_type": "code",
   "execution_count": null,
   "id": "f27ee9f7",
   "metadata": {},
   "outputs": [],
   "source": [
    "geom_inter_y = geom.intersection(y)\n",
    "geom_inter_y"
   ]
  },
  {
   "cell_type": "code",
   "execution_count": null,
   "id": "77f6d41b",
   "metadata": {},
   "outputs": [],
   "source": [
    "geom_inter_y.plot(color = \"#00000030\", edgecolor='black')"
   ]
  },
  {
   "cell_type": "markdown",
   "id": "d4184b2b",
   "metadata": {},
   "source": [
    "### 4.2.6 Subsetting vs. clipping"
   ]
  },
  {
   "cell_type": "code",
   "execution_count": null,
   "id": "54278704",
   "metadata": {},
   "outputs": [],
   "source": [
    "bounds = x.union(y).bounds\n",
    "bounds"
   ]
  },
  {
   "cell_type": "code",
   "execution_count": null,
   "id": "140f2ced",
   "metadata": {},
   "outputs": [],
   "source": [
    "np.random.seed(1)\n",
    "n = 10\n",
    "coords_x = np.random.uniform(bounds[0], bounds[2], n)\n",
    "coords_y = np.random.uniform(bounds[1], bounds[3], n)\n",
    "coords = list(zip(coords_x, coords_y))\n",
    "coords"
   ]
  },
  {
   "cell_type": "code",
   "execution_count": null,
   "id": "a305ad21",
   "metadata": {},
   "outputs": [],
   "source": [
    "pnt = [shapely.Point(i) for i in coords]\n",
    "pnt = gpd.GeoSeries(pnt)\n",
    "pnt"
   ]
  },
  {
   "cell_type": "code",
   "execution_count": null,
   "id": "433c7482",
   "metadata": {},
   "outputs": [],
   "source": [
    "base = pnt.plot(color='none', edgecolor='black')\n",
    "gpd.GeoSeries(x).plot(ax=base, color='red', edgecolor='black', alpha=0.3)\n",
    "gpd.GeoSeries(y).plot(ax=base, color='blue', edgecolor='black', alpha=0.3)\n",
    "                "
   ]
  },
  {
   "cell_type": "code",
   "execution_count": null,
   "id": "16c74977",
   "metadata": {},
   "outputs": [],
   "source": [
    "sel = pnt.intersects(x.intersection(y))\n",
    "pnt1 = pnt[sel]\n",
    "pnt1"
   ]
  },
  {
   "cell_type": "code",
   "execution_count": null,
   "id": "76232e6d",
   "metadata": {},
   "outputs": [],
   "source": [
    "pnt2 = pnt.intersection(x.intersection(y))\n",
    "pnt2"
   ]
  },
  {
   "cell_type": "code",
   "execution_count": null,
   "id": "3f38c64a",
   "metadata": {},
   "outputs": [],
   "source": [
    "base = pnt.plot(color='none', edgecolor='black')\n",
    "gpd.GeoSeries(x).plot(ax=base, color='red', edgecolor='black', alpha=0.3)\n",
    "gpd.GeoSeries(y).plot(ax=base, color='blue', edgecolor='black', alpha=0.3)\n",
    "pnt2.plot(ax=base, color='green')"
   ]
  },
  {
   "cell_type": "code",
   "execution_count": null,
   "id": "e2c6d2ff",
   "metadata": {},
   "outputs": [],
   "source": [
    "base = pnt.plot(color='none', edgecolor='black')\n",
    "gpd.GeoSeries(x).plot(ax=base, color='red', edgecolor='black', alpha=0.3)\n",
    "gpd.GeoSeries(y).plot(ax=base, color='blue', edgecolor='black', alpha=0.3)\n",
    "pnt1.plot(ax=base, color='green')"
   ]
  },
  {
   "cell_type": "code",
   "execution_count": null,
   "id": "f267ff0b",
   "metadata": {},
   "outputs": [],
   "source": [
    "pnt2 = pnt2[~pnt2.is_empty]\n",
    "pnt2"
   ]
  },
  {
   "cell_type": "markdown",
   "id": "95a3054e",
   "metadata": {},
   "source": [
    "### 4.2.7 Geometry unions"
   ]
  },
  {
   "cell_type": "code",
   "execution_count": null,
   "id": "9d087c21",
   "metadata": {},
   "outputs": [],
   "source": [
    "regions = us_states[['REGION', 'geometry', 'total_pop_15']] \\\n",
    "    .dissolve(by='REGION', aggfunc='sum').reset_index()\n",
    "regions"
   ]
  },
  {
   "cell_type": "code",
   "execution_count": null,
   "id": "4b11ade7",
   "metadata": {},
   "outputs": [],
   "source": [
    "fig, ax = plt.subplots(1, 2, figsize=(9, 2.5))\n",
    "us_states.plot(\n",
    "    ax=ax[0],\n",
    "    column='total_pop_15',\n",
    "    edgecolor='black',\n",
    "    legend=True\n",
    ")\n",
    "regions.plot(\n",
    "    ax=ax[1],\n",
    "    column='total_pop_15',\n",
    "    edgecolor='black',\n",
    "    legend=True\n",
    ")"
   ]
  },
  {
   "cell_type": "code",
   "execution_count": null,
   "id": "4737be33",
   "metadata": {},
   "outputs": [],
   "source": [
    "us_west = us_states[us_states['REGION'] == 'West']\n",
    "us_west_union = us_west.geometry.union_all()\n",
    "us_west_union"
   ]
  },
  {
   "cell_type": "code",
   "execution_count": null,
   "id": "9465c499",
   "metadata": {},
   "outputs": [],
   "source": [
    "sel = (us_states['REGION'] == 'West') | (us_states['NAME'] == 'Texas')\n",
    "texas_union = us_states[sel]\n",
    "texas_union = texas_union.union_all()\n",
    "texas_union"
   ]
  },
  {
   "cell_type": "code",
   "execution_count": null,
   "id": "681b22a2",
   "metadata": {},
   "outputs": [],
   "source": [
    "us_west = us_states[us_states['REGION'] == 'West']\n",
    "texas = us_states[us_states['NAME'] == 'Texas']\n",
    "texas_union = pd.concat([us_west, texas]).union_all()\n",
    "texas_union"
   ]
  },
  {
   "cell_type": "markdown",
   "id": "88c63916",
   "metadata": {},
   "source": [
    "### 4.2.8 Type transformations"
   ]
  },
  {
   "cell_type": "code",
   "execution_count": null,
   "id": "f50b015f",
   "metadata": {},
   "outputs": [],
   "source": [
    "multipoint = shapely.MultiPoint([(1, 1), (3, 3), (5, 1)])\n",
    "multipoint"
   ]
  },
  {
   "cell_type": "code",
   "execution_count": null,
   "id": "403a20e8",
   "metadata": {},
   "outputs": [],
   "source": [
    "linestring = shapely.LineString(multipoint.geoms)\n",
    "linestring"
   ]
  },
  {
   "cell_type": "code",
   "execution_count": null,
   "id": "81e96320",
   "metadata": {},
   "outputs": [],
   "source": [
    "polygon = shapely.Polygon(multipoint.geoms)\n",
    "polygon"
   ]
  },
  {
   "cell_type": "code",
   "execution_count": null,
   "id": "29dbadca",
   "metadata": {},
   "outputs": [],
   "source": [
    "fig, ax = plt.subplots(1, 3, figsize=(15, 5))\n",
    "gpd.GeoSeries(multipoint).plot(ax=ax[0], color='red', edgecolor='black')\n",
    "gpd.GeoSeries(linestring).plot(ax=ax[1], color='blue', edgecolor='black')\n",
    "gpd.GeoSeries(polygon).plot(ax=ax[2], color='green', edgecolor='black')"
   ]
  },
  {
   "cell_type": "code",
   "execution_count": null,
   "id": "08c98f19",
   "metadata": {},
   "outputs": [],
   "source": [
    "shapely.MultiPoint(linestring.coords)"
   ]
  },
  {
   "cell_type": "code",
   "execution_count": null,
   "id": "79d56cd9",
   "metadata": {},
   "outputs": [],
   "source": [
    "shapely.MultiPoint(polygon.exterior.coords)"
   ]
  },
  {
   "cell_type": "code",
   "execution_count": null,
   "id": "27612585",
   "metadata": {},
   "outputs": [],
   "source": [
    "multipolygon = shapely.MultiPolygon([\n",
    "    polygon,\n",
    "    shapely.affinity.translate(polygon.centroid.buffer(1.5), 3, 2)\n",
    "])\n",
    "multipolygon"
   ]
  },
  {
   "cell_type": "code",
   "execution_count": null,
   "id": "75bead7c",
   "metadata": {},
   "outputs": [],
   "source": [
    "multipolygon.geoms[0]"
   ]
  },
  {
   "cell_type": "code",
   "execution_count": null,
   "id": "017959d6",
   "metadata": {},
   "outputs": [],
   "source": [
    "multipolygon.geoms[1]"
   ]
  },
  {
   "cell_type": "code",
   "execution_count": null,
   "id": "6cf2bd40",
   "metadata": {},
   "outputs": [],
   "source": [
    "l1 = shapely.LineString([(1, 5), (4, 3)])\n",
    "l2 = shapely.LineString([(4, 4), (4, 1)])\n",
    "l3 = shapely.LineString([(2, 2), (4, 2)])\n",
    "ml = shapely.MultiLineString([l1, l2, l3])\n",
    "ml"
   ]
  },
  {
   "cell_type": "code",
   "execution_count": null,
   "id": "f2bfa903",
   "metadata": {},
   "outputs": [],
   "source": [
    "geom = gpd.GeoSeries(ml)\n",
    "geom"
   ]
  },
  {
   "cell_type": "code",
   "execution_count": null,
   "id": "047c4656",
   "metadata": {},
   "outputs": [],
   "source": [
    "dat = gpd.GeoDataFrame(geometry=geom, data=pd.DataFrame({'id':[1]}))\n",
    "dat"
   ]
  },
  {
   "cell_type": "code",
   "execution_count": null,
   "id": "16ca0903",
   "metadata": {},
   "outputs": [],
   "source": [
    "list(ml.geoms)"
   ]
  },
  {
   "cell_type": "code",
   "execution_count": 99,
   "id": "c9e5828b",
   "metadata": {},
   "outputs": [
    {
     "data": {
      "text/html": [
       "<div>\n",
       "<style scoped>\n",
       "    .dataframe tbody tr th:only-of-type {\n",
       "        vertical-align: middle;\n",
       "    }\n",
       "\n",
       "    .dataframe tbody tr th {\n",
       "        vertical-align: top;\n",
       "    }\n",
       "\n",
       "    .dataframe thead th {\n",
       "        text-align: right;\n",
       "    }\n",
       "</style>\n",
       "<table border=\"1\" class=\"dataframe\">\n",
       "  <thead>\n",
       "    <tr style=\"text-align: right;\">\n",
       "      <th></th>\n",
       "      <th>level_0</th>\n",
       "      <th>level_1</th>\n",
       "      <th>id</th>\n",
       "      <th>geometry</th>\n",
       "    </tr>\n",
       "  </thead>\n",
       "  <tbody>\n",
       "    <tr>\n",
       "      <th>0</th>\n",
       "      <td>0</td>\n",
       "      <td>0</td>\n",
       "      <td>1</td>\n",
       "      <td>LINESTRING (1 5, 4 3)</td>\n",
       "    </tr>\n",
       "    <tr>\n",
       "      <th>1</th>\n",
       "      <td>0</td>\n",
       "      <td>1</td>\n",
       "      <td>1</td>\n",
       "      <td>LINESTRING (4 4, 4 1)</td>\n",
       "    </tr>\n",
       "    <tr>\n",
       "      <th>2</th>\n",
       "      <td>0</td>\n",
       "      <td>2</td>\n",
       "      <td>1</td>\n",
       "      <td>LINESTRING (2 2, 4 2)</td>\n",
       "    </tr>\n",
       "  </tbody>\n",
       "</table>\n",
       "</div>"
      ],
      "text/plain": [
       "   level_0  level_1  id               geometry\n",
       "0        0        0   1  LINESTRING (1 5, 4 3)\n",
       "1        0        1   1  LINESTRING (4 4, 4 1)\n",
       "2        0        2   1  LINESTRING (2 2, 4 2)"
      ]
     },
     "execution_count": 99,
     "metadata": {},
     "output_type": "execute_result"
    }
   ],
   "source": [
    "dat1 = dat.explode(index_parts=True).reset_index()\n",
    "dat1"
   ]
  },
  {
   "cell_type": "code",
   "execution_count": null,
   "id": "254efab8",
   "metadata": {},
   "outputs": [],
   "source": [
    "fig, ax = plt.subplots(1, 2, figsize=(10, 5))\n",
    "dat.plot(ax=ax[0], column='id', linewidth=7)\n",
    "dat1.plot(ax=ax[1], column='level_1', linewidth=7)"
   ]
  },
  {
   "cell_type": "code",
   "execution_count": 97,
   "id": "dd4b79a0",
   "metadata": {},
   "outputs": [
    {
     "data": {
      "text/html": [
       "<div>\n",
       "<style scoped>\n",
       "    .dataframe tbody tr th:only-of-type {\n",
       "        vertical-align: middle;\n",
       "    }\n",
       "\n",
       "    .dataframe tbody tr th {\n",
       "        vertical-align: top;\n",
       "    }\n",
       "\n",
       "    .dataframe thead th {\n",
       "        text-align: right;\n",
       "    }\n",
       "</style>\n",
       "<table border=\"1\" class=\"dataframe\">\n",
       "  <thead>\n",
       "    <tr style=\"text-align: right;\">\n",
       "      <th></th>\n",
       "      <th>level_0</th>\n",
       "      <th>level_1</th>\n",
       "      <th>id</th>\n",
       "      <th>geometry</th>\n",
       "    </tr>\n",
       "  </thead>\n",
       "  <tbody>\n",
       "    <tr>\n",
       "      <th>0</th>\n",
       "      <td>0</td>\n",
       "      <td>0</td>\n",
       "      <td>1</td>\n",
       "      <td>MULTIPOINT (1 5, 4 3)</td>\n",
       "    </tr>\n",
       "    <tr>\n",
       "      <th>1</th>\n",
       "      <td>0</td>\n",
       "      <td>1</td>\n",
       "      <td>1</td>\n",
       "      <td>MULTIPOINT (4 4, 4 1)</td>\n",
       "    </tr>\n",
       "    <tr>\n",
       "      <th>2</th>\n",
       "      <td>0</td>\n",
       "      <td>2</td>\n",
       "      <td>1</td>\n",
       "      <td>MULTIPOINT (2 2, 4 2)</td>\n",
       "    </tr>\n",
       "  </tbody>\n",
       "</table>\n",
       "</div>"
      ],
      "text/plain": [
       "   level_0  level_1  id               geometry\n",
       "0        0        0   1  MULTIPOINT (1 5, 4 3)\n",
       "1        0        1   1  MULTIPOINT (4 4, 4 1)\n",
       "2        0        2   1  MULTIPOINT (2 2, 4 2)"
      ]
     },
     "execution_count": 97,
     "metadata": {},
     "output_type": "execute_result"
    }
   ],
   "source": [
    "dat2 = dat1.copy()\n",
    "dat2.geometry = dat2.geometry.apply(lambda x: shapely.MultiPoint(x.coords))\n",
    "dat2"
   ]
  },
  {
   "cell_type": "code",
   "execution_count": null,
   "id": "5b53c98a",
   "metadata": {},
   "outputs": [],
   "source": [
    "fig, ax = plt.subplots(1, 2, figsize=(10, 5))\n",
    "dat1.plot(ax=ax[0], column='level_1', linewidth=7)\n",
    "dat2.plot(ax=ax[1], column='level_1', markersize=50)"
   ]
  },
  {
   "cell_type": "code",
   "execution_count": null,
   "id": "c6a9ad23",
   "metadata": {},
   "outputs": [],
   "source": [
    "dat1.dissolve(by='id').reset_index()"
   ]
  },
  {
   "cell_type": "code",
   "execution_count": 104,
   "id": "88751cc7",
   "metadata": {},
   "outputs": [
    {
     "data": {
      "text/html": [
       "<div>\n",
       "<style scoped>\n",
       "    .dataframe tbody tr th:only-of-type {\n",
       "        vertical-align: middle;\n",
       "    }\n",
       "\n",
       "    .dataframe tbody tr th {\n",
       "        vertical-align: top;\n",
       "    }\n",
       "\n",
       "    .dataframe thead th {\n",
       "        text-align: right;\n",
       "    }\n",
       "</style>\n",
       "<table border=\"1\" class=\"dataframe\">\n",
       "  <thead>\n",
       "    <tr style=\"text-align: right;\">\n",
       "      <th></th>\n",
       "      <th>Island</th>\n",
       "      <th>geometry</th>\n",
       "      <th>Population</th>\n",
       "    </tr>\n",
       "  </thead>\n",
       "  <tbody>\n",
       "    <tr>\n",
       "      <th>0</th>\n",
       "      <td>North</td>\n",
       "      <td>MULTIPOLYGON (((1865558.829 5462204.443, 18612...</td>\n",
       "      <td>3671600.0</td>\n",
       "    </tr>\n",
       "    <tr>\n",
       "      <th>1</th>\n",
       "      <td>South</td>\n",
       "      <td>MULTIPOLYGON (((1229729.735 4798718.607, 12299...</td>\n",
       "      <td>1115600.0</td>\n",
       "    </tr>\n",
       "  </tbody>\n",
       "</table>\n",
       "</div>"
      ],
      "text/plain": [
       "  Island                                           geometry  Population\n",
       "0  North  MULTIPOLYGON (((1865558.829 5462204.443, 18612...   3671600.0\n",
       "1  South  MULTIPOLYGON (((1229729.735 4798718.607, 12299...   1115600.0"
      ]
     },
     "execution_count": 104,
     "metadata": {},
     "output_type": "execute_result"
    }
   ],
   "source": [
    "nz_dis1 = nz[['Island', 'Population', 'geometry']] \\\n",
    "    .dissolve(by='Island', aggfunc='sum') \\\n",
    "    .reset_index()\n",
    "nz_dis1"
   ]
  },
  {
   "cell_type": "code",
   "execution_count": null,
   "id": "93fe0cfe",
   "metadata": {},
   "outputs": [],
   "source": [
    "nz_dis2 = nz \\\n",
    "    .groupby('Island') \\\n",
    "    .agg({\n",
    "        'Population': 'sum',\n",
    "        'geometry': lambda x: shapely.MultiPolygon(x.explode().to_list())\n",
    "        }) \\\n",
    "    .reset_index()\n",
    "nz_dis2 = gpd.GeoDataFrame(nz_dis2).set_geometry('geometry').set_crs(nz.crs)\n",
    "nz_dis2"
   ]
  },
  {
   "cell_type": "code",
   "execution_count": 107,
   "id": "0b3c02cc",
   "metadata": {},
   "outputs": [
    {
     "data": {
      "text/plain": [
       "<Axes: >"
      ]
     },
     "execution_count": 107,
     "metadata": {},
     "output_type": "execute_result"
    },
    {
     "data": {
      "image/png": "[encoded data removed]",
      "text/plain": [
       "<Figure size 1000x500 with 2 Axes>"
      ]
     },
     "metadata": {},
     "output_type": "display_data"
    }
   ],
   "source": [
    "fig, ax = plt.subplots(1, 2, figsize=(10, 5))\n",
    "nz_dis1.plot(ax=ax[0], color='lightgrey', edgecolor='black')\n",
    "nz_dis2.plot(ax=ax[1], color='lightgrey', edgecolor='black')"
   ]
  }
 ],
 "metadata": {
  "kernelspec": {
   "display_name": "base",
   "language": "python",
   "name": "python3"
  },
  "language_info": {
   "codemirror_mode": {
    "name": "ipython",
    "version": 3
   },
   "file_extension": ".py",
   "mimetype": "text/x-python",
   "name": "python",
   "nbconvert_exporter": "python",
   "pygments_lexer": "ipython3",
   "version": "3.12.7"
  }
 },
 "nbformat": 4,
 "nbformat_minor": 5
}
