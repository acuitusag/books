{
 "cells": [
  {
   "cell_type": "markdown",
   "id": "2f704519",
   "metadata": {},
   "source": [
    "# Chapter 3: Spatial data_path_path operations"
   ]
  },
  {
   "cell_type": "markdown",
   "id": "42316778",
   "metadata": {},
   "source": [
    "## Prerequisites"
   ]
  },
  {
   "cell_type": "code",
   "execution_count": null,
   "id": "7dcd46fc",
   "metadata": {},
   "outputs": [],
   "source": [
    "import os\n",
    "import numpy as np\n",
    "import matplotlib.pyplot as plt\n",
    "import pandas as pd\n",
    "import scipy.ndimage\n",
    "import scipy.stats\n",
    "import shapely\n",
    "import geopandas as gpd\n",
    "import contextily as cx\n",
    "import rasterio\n",
    "import rasterio.plot\n",
    "import rasterio.merge\n",
    "import rasterio.features"
   ]
  },
  {
   "cell_type": "code",
   "execution_count": null,
   "id": "d7ae7dfe",
   "metadata": {},
   "outputs": [],
   "source": [
    "data_path = \"F:\\\\books\\\\geocompy-main\\\\data\\\\\"\n",
    "output_path = \"F:\\\\books\\\\geocompy-main\\\\output\\\\\"\n",
    "\n",
    "nz = gpd.read_file(data_path + 'nz.gpkg')\n",
    "nz_height = gpd.read_file(data_path + 'nz_height.gpkg')\n",
    "world = gpd.read_file(data_path + 'world.gpkg')\n",
    "cycle_hire = gpd.read_file(data_path + 'cycle_hire.gpkg')\n",
    "cycle_hire_osm = gpd.read_file(data_path + 'cycle_hire_osm.gpkg')\n",
    "src_elev = rasterio.open(output_path + 'elev.tif')\n",
    "src_landsat = rasterio.open(data_path + 'landsat.tif')\n",
    "src_grain = rasterio.open(output_path + 'grain.tif')"
   ]
  },
  {
   "cell_type": "markdown",
   "id": "857ef7f2",
   "metadata": {},
   "source": [
    "## 3.1 Introduction"
   ]
  },
  {
   "cell_type": "markdown",
   "id": "f966cfc6",
   "metadata": {},
   "source": [
    "## 3.2 Spatial Operations on vector data"
   ]
  },
  {
   "cell_type": "markdown",
   "id": "cbcd5524",
   "metadata": {},
   "source": [
    "### 3.2.1 Spatial subsetting"
   ]
  },
  {
   "cell_type": "code",
   "execution_count": null,
   "id": "ffc0daa1",
   "metadata": {},
   "outputs": [],
   "source": [
    "canterbury = nz[nz.Name == 'Canterbury']\n",
    "canterbury.plot()"
   ]
  },
  {
   "cell_type": "code",
   "execution_count": null,
   "id": "8a7f1ccb",
   "metadata": {},
   "outputs": [],
   "source": [
    "canterbury_shape = canterbury.geometry.iloc[0]\n",
    "canterbury_shape"
   ]
  },
  {
   "cell_type": "code",
   "execution_count": null,
   "id": "718f1c5b",
   "metadata": {},
   "outputs": [],
   "source": [
    "sel = nz_height.intersects(canterbury_shape)\n",
    "sel"
   ]
  },
  {
   "cell_type": "code",
   "execution_count": null,
   "id": "76a928c7",
   "metadata": {},
   "outputs": [],
   "source": [
    "canterbury_height = nz_height[sel]\n",
    "canterbury_height"
   ]
  },
  {
   "cell_type": "code",
   "execution_count": null,
   "id": "7ba5759f",
   "metadata": {},
   "outputs": [],
   "source": [
    "fig, ax = plt.subplots(figsize=(8, 8))\n",
    "ax = canterbury.plot(\n",
    "    ax=ax,\n",
    "    color = 'lightgrey',\n",
    "    edgecolor = 'black'\n",
    ")\n",
    "canterbury_height.plot(\n",
    "    ax=ax,\n",
    "    color = 'red',\n",
    "    edgecolor = 'red'\n",
    ")"
   ]
  },
  {
   "cell_type": "code",
   "execution_count": null,
   "id": "b8508c81",
   "metadata": {},
   "outputs": [],
   "source": [
    "base = nz.plot(color='white', edgecolor='lightgray')\n",
    "nz_height.plot(ax=base, color='lightblue', edgecolor='black')"
   ]
  },
  {
   "cell_type": "code",
   "execution_count": null,
   "id": "b9c5bd9a",
   "metadata": {},
   "outputs": [],
   "source": [
    "base = nz.plot(color='white', edgecolor='lightgray')\n",
    "canterbury.plot(ax=base, color='lightblue', edgecolor='black')\n",
    "canterbury_height.plot(ax=base, color='lightblue', edgecolor='black')"
   ]
  },
  {
   "cell_type": "code",
   "execution_count": null,
   "id": "7feca2e7",
   "metadata": {},
   "outputs": [],
   "source": [
    "canterbury_southland = nz[nz.Name.isin(['Canterbury', 'Southland'])]\n",
    "sel = nz_height.intersects(canterbury_southland.union_all())\n",
    "canterbury_southland_height = nz_height[sel]\n",
    "canterbury_southland_height"
   ]
  },
  {
   "cell_type": "code",
   "execution_count": null,
   "id": "2d00b902",
   "metadata": {},
   "outputs": [],
   "source": [
    "base = nz.plot(color='white', edgecolor='lightgray')\n",
    "nz_height.plot(ax=base, color='white', edgecolor='red')"
   ]
  },
  {
   "cell_type": "code",
   "execution_count": null,
   "id": "db514723",
   "metadata": {},
   "outputs": [],
   "source": [
    "base = nz.plot(color='white', edgecolor='lightgray')\n",
    "canterbury_southland.plot(ax=base, color='lightgrey', edgecolor='black')\n",
    "canterbury_southland_height.plot(ax=base, color='none', edgecolor='red')"
   ]
  },
  {
   "cell_type": "code",
   "execution_count": null,
   "id": "2f26193c",
   "metadata": {},
   "outputs": [],
   "source": [
    "m = canterbury_southland.explore(\n",
    "    tiles='Esri WorldImagery',\n",
    "    color = 'green',\n",
    ")\n",
    "canterbury_southland_height.explore(\n",
    "    m=m,\n",
    "    color = 'green',\n",
    "    style_kwds = {'color': 'red', 'opacity': 0.5, 'fillOpacity': 0.1},\n",
    "    marker_kwds = {'radius': 5}\n",
    ")"
   ]
  },
  {
   "cell_type": "markdown",
   "id": "77c940e6",
   "metadata": {},
   "source": [
    "### 3.2.2 Topological relations"
   ]
  },
  {
   "cell_type": "code",
   "execution_count": null,
   "id": "5e18c9f9",
   "metadata": {},
   "outputs": [],
   "source": [
    "points = gpd.GeoSeries([\n",
    "  shapely.Point(0.2,0.1), \n",
    "  shapely.Point(0.7,0.2), \n",
    "  shapely.Point(0.4,0.8)\n",
    "])\n",
    "line = gpd.GeoSeries([\n",
    "  shapely.LineString([(0.4,0.2), (1,0.5)])\n",
    "])\n",
    "poly = gpd.GeoSeries([\n",
    "  shapely.Polygon([(0,0), (0,1), (1,1), (1,0.5), (0,0)])\n",
    "])"
   ]
  },
  {
   "cell_type": "code",
   "execution_count": null,
   "id": "307a95b8",
   "metadata": {},
   "outputs": [],
   "source": [
    "list(enumerate(points))"
   ]
  },
  {
   "cell_type": "code",
   "execution_count": null,
   "id": "3d42b0b4",
   "metadata": {},
   "outputs": [],
   "source": [
    "base = poly.plot(color='lightgrey', edgecolor='red')\n",
    "line.plot(ax=base, color='black', linewidth=7)\n",
    "points.plot(ax=base, color='none', edgecolor='black')\n",
    "for i in enumerate(points):\n",
    "    base.annotate(\n",
    "        i[0], xy=(i[1].x, i[1].y),\n",
    "        xytext=(3, 3),\n",
    "        textcoords=\"offset points\",\n",
    "        weight='bold'\n",
    "    )"
   ]
  },
  {
   "cell_type": "code",
   "execution_count": null,
   "id": "13cdabe3",
   "metadata": {},
   "outputs": [],
   "source": [
    "points.intersects(poly.iloc[0])"
   ]
  },
  {
   "cell_type": "code",
   "execution_count": null,
   "id": "2a5e700c",
   "metadata": {},
   "outputs": [],
   "source": [
    "poly2 = gpd.GeoSeries([\n",
    "  shapely.Polygon([(0,0), (0,1), (1,1), (1,0.5), (0,0)]),\n",
    "  shapely.Polygon([(0,0), (1,0.5), (1,0), (0,0)])\n",
    "])"
   ]
  },
  {
   "cell_type": "code",
   "execution_count": null,
   "id": "44f4bf8b",
   "metadata": {},
   "outputs": [],
   "source": [
    "base = poly2.plot(color='lightgrey', edgecolor='red')\n",
    "points.plot(ax=base, color='none', edgecolor='black')\n",
    "for i in enumerate(points):\n",
    "    base.annotate(\n",
    "        i[0], xy=(i[1].x, i[1].y),\n",
    "        xytext=(3, 3),\n",
    "        textcoords=\"offset points\",\n",
    "        weight='bold'\n",
    "    )"
   ]
  },
  {
   "cell_type": "code",
   "execution_count": null,
   "id": "d08a8fe2",
   "metadata": {},
   "outputs": [],
   "source": [
    "points.apply(lambda x: poly2.intersects(x))"
   ]
  },
  {
   "cell_type": "code",
   "execution_count": null,
   "id": "5414b0e7",
   "metadata": {},
   "outputs": [],
   "source": [
    "points.apply(lambda x: poly2.intersects(x)).to_numpy()"
   ]
  },
  {
   "cell_type": "code",
   "execution_count": null,
   "id": "6cebb577",
   "metadata": {},
   "outputs": [],
   "source": [
    "points.within(poly.iloc[0])"
   ]
  },
  {
   "cell_type": "code",
   "execution_count": null,
   "id": "0f9f6960",
   "metadata": {},
   "outputs": [],
   "source": [
    "points.touches(poly.iloc[0])"
   ]
  },
  {
   "cell_type": "code",
   "execution_count": null,
   "id": "1d0ba310",
   "metadata": {},
   "outputs": [],
   "source": [
    "points.disjoint(poly.iloc[0])"
   ]
  },
  {
   "cell_type": "code",
   "execution_count": null,
   "id": "5838e910",
   "metadata": {},
   "outputs": [],
   "source": [
    "points.distance(poly.iloc[0]) < 0.2"
   ]
  },
  {
   "cell_type": "code",
   "execution_count": null,
   "id": "9512ac02",
   "metadata": {},
   "outputs": [],
   "source": [
    "points.distance(poly.iloc[0]) "
   ]
  },
  {
   "cell_type": "markdown",
   "id": "fa31c7b0",
   "metadata": {},
   "source": [
    "### 3.2.3 Spatial joining"
   ]
  },
  {
   "cell_type": "code",
   "execution_count": null,
   "id": "ad5805cc",
   "metadata": {},
   "outputs": [],
   "source": [
    "np.random.seed(11)       ## set seed for reproducibility\n",
    "bb = world.total_bounds  ## the world's bounds\n",
    "x = np.random.uniform(low=bb[0], high=bb[2], size=10)\n",
    "y = np.random.uniform(low=bb[1], high=bb[3], size=10)\n",
    "random_points = gpd.points_from_xy(x, y, crs=4326)\n",
    "random_points = gpd.GeoDataFrame({'geometry': random_points})\n",
    "random_points.plot(color='red', markersize=10)"
   ]
  },
  {
   "cell_type": "code",
   "execution_count": null,
   "id": "eb9a9093",
   "metadata": {},
   "outputs": [],
   "source": [
    "world_random = world[world.intersects(random_points.union_all())]\n",
    "world_random"
   ]
  },
  {
   "cell_type": "code",
   "execution_count": null,
   "id": "98d71a99",
   "metadata": {},
   "outputs": [],
   "source": [
    "random_joined = random_points.sjoin(world_random, how='left')\n",
    "random_joined"
   ]
  },
  {
   "cell_type": "code",
   "execution_count": null,
   "id": "bf867758",
   "metadata": {},
   "outputs": [],
   "source": [
    "# Random points\n",
    "base = world.plot(color='white', edgecolor='lightgrey')\n",
    "random_points.plot(ax=base, color='None', edgecolor='red');\n",
    "# World countries intersecting with the points\n",
    "base = world.plot(color='white', edgecolor='lightgrey')\n",
    "world_random.plot(ax=base, column='name_long');\n",
    "# Points with joined country names\n",
    "base = world.plot(color='white', edgecolor='lightgrey')\n",
    "random_joined.geometry.plot(ax=base, color='grey')\n",
    "random_joined.plot(ax=base, column='name_long', legend=True);"
   ]
  },
  {
   "cell_type": "markdown",
   "id": "5f2ca527",
   "metadata": {},
   "source": [
    "### 3.2.4 Non-overlapping joins"
   ]
  },
  {
   "cell_type": "code",
   "execution_count": null,
   "id": "d4bc0bec",
   "metadata": {},
   "outputs": [],
   "source": [
    "cycle_hire.explore(\n",
    "    tiles='Esri WorldImagery',\n",
    "    color = 'blue',\n",
    "    marker_kwds = {'radius': 5}\n",
    ")"
   ]
  },
  {
   "cell_type": "code",
   "execution_count": null,
   "id": "324e3427",
   "metadata": {},
   "outputs": [],
   "source": [
    "cycle_hire_osm.explore(\n",
    "    tiles='Esri WorldImagery',\n",
    "    color = 'red',\n",
    "    marker_kwds = {'radius': 5}\n",
    ")"
   ]
  },
  {
   "cell_type": "code",
   "execution_count": null,
   "id": "43cfe353",
   "metadata": {},
   "outputs": [],
   "source": [
    "base = cycle_hire.plot(\n",
    "    edgecolor = 'blue', color='none')\n",
    "cycle_hire_osm.plot(ax=base, edgecolor = 'red', color='none')"
   ]
  },
  {
   "cell_type": "code",
   "execution_count": null,
   "id": "e243022e",
   "metadata": {},
   "outputs": [],
   "source": [
    "print(cycle_hire_osm.geometry)\n",
    "print(cycle_hire_osm.geometry.iloc[0])"
   ]
  },
  {
   "cell_type": "code",
   "execution_count": null,
   "id": "e829fcde",
   "metadata": {},
   "outputs": [],
   "source": [
    "m = cycle_hire.geometry.apply(\n",
    "    lambda x: cycle_hire_osm.geometry.intersects(x)\n",
    ")\n",
    "print(m)\n",
    "m.to_numpy().any()"
   ]
  },
  {
   "cell_type": "code",
   "execution_count": null,
   "id": "b2e027fd",
   "metadata": {},
   "outputs": [],
   "source": [
    "cycle_hire"
   ]
  },
  {
   "cell_type": "code",
   "execution_count": null,
   "id": "9d066db4",
   "metadata": {},
   "outputs": [],
   "source": [
    "crs = 27700\n",
    "cycle_hire_buffers = cycle_hire.copy().to_crs(crs)\n",
    "cycle_hire_buffers['geometry'] = cycle_hire_buffers.buffer(20)\n",
    "cycle_hire_buffers = gpd.sjoin(\n",
    "    cycle_hire_buffers,\n",
    "    cycle_hire_osm.to_crs(crs),\n",
    "    how='left',\n",
    "    predicate='intersects'\n",
    ")\n",
    "cycle_hire_buffers"
   ]
  },
  {
   "cell_type": "code",
   "execution_count": null,
   "id": "ed564b91",
   "metadata": {},
   "outputs": [],
   "source": [
    "cycle_hire_buffers = cycle_hire_buffers[['id', 'capacity', 'geometry']] \\\n",
    "                                         .dissolve(by='id', aggfunc='mean') \\\n",
    "                                         .reset_index()\n",
    "cycle_hire_buffers.geometry = cycle_hire_buffers.centroid\n",
    "cycle_hire_buffers"
   ]
  },
  {
   "cell_type": "code",
   "execution_count": null,
   "id": "e3269bb8",
   "metadata": {},
   "outputs": [],
   "source": [
    "cycle_hire_buffers.plot()"
   ]
  },
  {
   "cell_type": "code",
   "execution_count": null,
   "id": "0ce5a62b",
   "metadata": {},
   "outputs": [],
   "source": [
    "# input\n",
    "fig, ax = plt.subplots(1, 1, figsize=(6, 3))\n",
    "cycle_hire_osm.plot(ax=ax, column='capacity', legend=True, markersize=5)"
   ]
  },
  {
   "cell_type": "code",
   "execution_count": null,
   "id": "44a10763",
   "metadata": {},
   "outputs": [],
   "source": [
    "# join result\n",
    "fig, ax = plt.subplots(1, 1, figsize=(6, 3))\n",
    "cycle_hire_buffers.plot(ax=ax, column='capacity', legend=True, markersize=5)"
   ]
  },
  {
   "cell_type": "markdown",
   "id": "a2ad8375",
   "metadata": {},
   "source": [
    "### 3.2.5 Spatial aggregation"
   ]
  },
  {
   "cell_type": "code",
   "execution_count": null,
   "id": "7de7c55a",
   "metadata": {},
   "outputs": [],
   "source": [
    "nz_height2 = gpd.sjoin(\n",
    "    nz_height[['elevation', 'geometry']],\n",
    "    nz[['Name', 'geometry']],\n",
    "    how='left',\n",
    "    predicate='intersects'\n",
    ")\n",
    "nz_height2"
   ]
  },
  {
   "cell_type": "code",
   "execution_count": null,
   "id": "fe67b7f9",
   "metadata": {},
   "outputs": [],
   "source": [
    "nz_height2 = nz_height2.groupby('Name')[['elevation']].mean().reset_index()\n",
    "nz_height2"
   ]
  },
  {
   "cell_type": "code",
   "execution_count": null,
   "id": "15688fe3",
   "metadata": {},
   "outputs": [],
   "source": [
    "nz2 = pd.merge(\n",
    "    nz[['Name', 'geometry']],\n",
    "    nz_height2,\n",
    "    how='left',\n",
    "    on='Name'\n",
    ")\n",
    "nz2"
   ]
  },
  {
   "cell_type": "code",
   "execution_count": null,
   "id": "e910d0d5",
   "metadata": {},
   "outputs": [],
   "source": [
    "nz2.plot(\n",
    "    column='elevation',\n",
    "    cmap='Blues',\n",
    "    legend=True,\n",
    "    edgecolor='black',\n",
    "    missing_kwds={'color': \"grey\", 'edgecolor': 'black'}\n",
    ")"
   ]
  },
  {
   "cell_type": "markdown",
   "id": "eca8a040",
   "metadata": {},
   "source": [
    "### 3.2.6 Joining incongruent layers"
   ]
  },
  {
   "cell_type": "code",
   "execution_count": null,
   "id": "68dca605",
   "metadata": {},
   "outputs": [],
   "source": [
    "# Settings: grid extent, resolution, and CRS\n",
    "bounds = nz.total_bounds\n",
    "crs = nz.crs\n",
    "res = 100000\n",
    "# Calculating grid dimensions\n",
    "xmin, ymin, xmax, ymax = bounds\n",
    "cols = list(range(int(np.floor(xmin)), int(np.ceil(xmax+res)), res))\n",
    "rows = list(range(int(np.floor(ymin)), int(np.ceil(ymax+res)), res))\n",
    "rows.reverse()\n",
    "# For each cell, create 'shapely' polygon (rectangle)\n",
    "polygons = []\n",
    "for x in cols:\n",
    "    for y in rows:\n",
    "        polygons.append(\n",
    "            shapely.Polygon([(x,y), (x+res, y), (x+res, y-res), (x, y-res)])\n",
    "        )\n",
    "# To 'GeoDataFrame'\n",
    "grid = gpd.GeoDataFrame({'geometry': polygons}, crs=crs)\n",
    "# Remove rows/columns beyond the extent\n",
    "sel = grid.intersects(shapely.box(*bounds))\n",
    "grid = grid[sel]\n",
    "# Add consecultive IDs\n",
    "grid['id'] = grid.index\n",
    "grid"
   ]
  },
  {
   "cell_type": "code",
   "execution_count": null,
   "id": "c62863ed",
   "metadata": {},
   "outputs": [],
   "source": [
    "base = grid.plot(color='none', edgecolor='grey')\n",
    "nz.plot(\n",
    "    ax=base,\n",
    "    column='Population',\n",
    "    edgecolor='black',\n",
    "    cmap='Reds',\n",
    "    legend=True\n",
    ")\n"
   ]
  },
  {
   "cell_type": "code",
   "execution_count": null,
   "id": "a5a07c8e",
   "metadata": {},
   "outputs": [],
   "source": [
    "nz['area'] = nz.area\n",
    "nz"
   ]
  },
  {
   "cell_type": "code",
   "execution_count": null,
   "id": "71723b22",
   "metadata": {},
   "outputs": [],
   "source": [
    "nz_grid = nz.overlay(grid)\n",
    "nz_grid = nz_grid[['id', 'area', 'Population', 'geometry']]\n",
    "nz_grid"
   ]
  },
  {
   "cell_type": "code",
   "execution_count": null,
   "id": "3f63de8d",
   "metadata": {},
   "outputs": [],
   "source": [
    "nz_grid.plot(color='none', edgecolor='black')"
   ]
  },
  {
   "cell_type": "code",
   "execution_count": null,
   "id": "546da45d",
   "metadata": {},
   "outputs": [],
   "source": [
    "nz_grid['area_sub'] = nz_grid.area\n",
    "nz_grid"
   ]
  },
  {
   "cell_type": "code",
   "execution_count": null,
   "id": "a0125ea6",
   "metadata": {},
   "outputs": [],
   "source": [
    "base = grid.plot(color='none', edgecolor='grey')\n",
    "nz_grid.plot(\n",
    "    ax=base,\n",
    "    column='area_sub',\n",
    "    edgecolor='black',\n",
    "    cmap='Reds',\n",
    "    legend=True\n",
    ")"
   ]
  },
  {
   "cell_type": "code",
   "execution_count": null,
   "id": "b5491c62",
   "metadata": {},
   "outputs": [],
   "source": [
    "nz_grid['area_prop'] = nz_grid['area_sub'] / nz_grid['area']\n",
    "nz_grid['population'] = nz_grid['Population'] * nz_grid['area_prop']\n",
    "nz_grid"
   ]
  },
  {
   "cell_type": "code",
   "execution_count": null,
   "id": "43ee6391",
   "metadata": {},
   "outputs": [],
   "source": [
    "nz_grid = nz_grid.groupby('id')['population'].sum().reset_index()\n",
    "grid = pd.merge(\n",
    "    grid,\n",
    "    nz_grid[['id', 'population']],\n",
    "    how='left',\n",
    "    on='id'\n",
    ")\n",
    "grid"
   ]
  },
  {
   "cell_type": "code",
   "execution_count": null,
   "id": "0a44f6c7",
   "metadata": {},
   "outputs": [],
   "source": [
    "base = grid.plot(\n",
    "    column='population',\n",
    "    edgecolor='black',\n",
    "    cmap='Reds',\n",
    "    legend=True\n",
    ")\n",
    "nz.plot(\n",
    "    ax=base,\n",
    "    color='none',\n",
    "    edgecolor='grey',\n",
    "    legend=True\n",
    ")"
   ]
  },
  {
   "cell_type": "code",
   "execution_count": null,
   "id": "e8e2e5e7",
   "metadata": {},
   "outputs": [],
   "source": [
    "nz['Population'].sum()"
   ]
  },
  {
   "cell_type": "code",
   "execution_count": null,
   "id": "faf7d900",
   "metadata": {},
   "outputs": [],
   "source": [
    "grid['population'].sum().round(0)"
   ]
  },
  {
   "cell_type": "markdown",
   "id": "5ab067b6",
   "metadata": {},
   "source": [
    "### 3.2.7 Distance relations"
   ]
  },
  {
   "cell_type": "code",
   "execution_count": null,
   "id": "3b6204d9",
   "metadata": {},
   "outputs": [],
   "source": [
    "nz_highest = nz_height.sort_values(by='elevation', ascending=False).iloc[0:3, :]\n",
    "nz_highest"
   ]
  },
  {
   "cell_type": "code",
   "execution_count": null,
   "id": "0504e031",
   "metadata": {},
   "outputs": [],
   "source": [
    "canterbury_centroid = canterbury.centroid.iloc[0]"
   ]
  },
  {
   "cell_type": "code",
   "execution_count": null,
   "id": "77624d9a",
   "metadata": {},
   "outputs": [],
   "source": [
    "nz_highest.distance(canterbury_centroid)"
   ]
  },
  {
   "cell_type": "code",
   "execution_count": null,
   "id": "c944ecd4",
   "metadata": {},
   "outputs": [],
   "source": [
    "sel = nz['Name'].str.contains('Canter|Otag')\n",
    "co = nz[sel]\n",
    "co"
   ]
  },
  {
   "cell_type": "code",
   "execution_count": null,
   "id": "b8c7d509",
   "metadata": {},
   "outputs": [],
   "source": [
    "d = nz_height.iloc[:3, :].apply(lambda x: co.distance(x.geometry), axis=1)\n",
    "d"
   ]
  },
  {
   "cell_type": "code",
   "execution_count": null,
   "id": "5ce4b586",
   "metadata": {},
   "outputs": [],
   "source": [
    "fig, ax = plt.subplots(figsize=(8, 12))\n",
    "co.plot(color='lightgrey', edgecolor='black', ax=ax)\n",
    "co.apply(\n",
    "    lambda x: ax.annotate(\n",
    "        text=x['Name'],\n",
    "        xy=x.geometry.centroid.coords[0],\n",
    "        ha='center'),\n",
    "    axis = 1\n",
    ")\n",
    "nz_height.iloc[:3, :].plot(color='none', edgecolor='black', ax=ax)"
   ]
  }
 ],
 "metadata": {
  "kernelspec": {
   "display_name": "base",
   "language": "python",
   "name": "python3"
  },
  "language_info": {
   "codemirror_mode": {
    "name": "ipython",
    "version": 3
   },
   "file_extension": ".py",
   "mimetype": "text/x-python",
   "name": "python",
   "nbconvert_exporter": "python",
   "pygments_lexer": "ipython3",
   "version": "3.12.7"
  }
 },
 "nbformat": 4,
 "nbformat_minor": 5
}
