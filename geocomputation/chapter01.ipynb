{
 "cells": [
  {
   "cell_type": "markdown",
   "id": "eaddaef1",
   "metadata": {},
   "source": [
    "# Chapter 01: Geographic data in Python"
   ]
  },
  {
   "cell_type": "markdown",
   "id": "00ed0b43",
   "metadata": {},
   "source": [
    "## Load libraries"
   ]
  },
  {
   "cell_type": "code",
   "execution_count": null,
   "id": "500b67a7",
   "metadata": {},
   "outputs": [],
   "source": [
    "import pandas as pd\n",
    "import geopandas as gpd\n",
    "import shapely\n",
    "\n",
    "pd.set_option('display.max_rows', 6)"
   ]
  },
  {
   "cell_type": "markdown",
   "id": "0da04bb1",
   "metadata": {},
   "source": [
    "## 1.2.1 Vector data classes"
   ]
  },
  {
   "cell_type": "markdown",
   "id": "9f3d3114",
   "metadata": {},
   "source": [
    "The main classes for working with geographic vector data in Python are:\n",
    "- `GeoDataFrame`: a pandas DataFrame with a geometry column\n",
    "- `GeoSeries`: a pandas Series with a geometry column\n",
    "- `shapely`: a library for creating and manipulating geometric objects\n",
    "\n",
    "The main classes in the `shapely` library are:\n",
    "- `Geometry`: a base class for all geometric objects\n",
    "- `Point`: a class for representing points in space\n",
    "- `LineString`: a class for representing lines in space\n",
    "- `Polygon`: a class for representing polygons in space\n",
    "- `MultiPoint`: a class for representing multiple points in space\n",
    "- `MultiLineString`: a class for representing multiple lines in space\n",
    "- `MultiPolygon`: a class for representing multiple polygons in space\n",
    "- `GeometryCollection`: a class for representing a collection of geometries\n"
   ]
  },
  {
   "cell_type": "markdown",
   "id": "7cc380f3",
   "metadata": {},
   "source": [
    "## Import data"
   ]
  },
  {
   "cell_type": "code",
   "execution_count": null,
   "id": "99e72233",
   "metadata": {},
   "outputs": [],
   "source": [
    "gdf = gpd.read_file(r\"F:\\books\\geocompy-main\\data\\world.gpkg\")"
   ]
  },
  {
   "cell_type": "markdown",
   "id": "bf795a8b",
   "metadata": {},
   "source": [
    "## 1.2.2 Vector layer"
   ]
  },
  {
   "cell_type": "code",
   "execution_count": null,
   "id": "90baed2a",
   "metadata": {},
   "outputs": [],
   "source": [
    "type(gdf)"
   ]
  },
  {
   "cell_type": "code",
   "execution_count": null,
   "id": "c46707e6",
   "metadata": {},
   "outputs": [],
   "source": [
    "gdf.shape"
   ]
  },
  {
   "cell_type": "code",
   "execution_count": null,
   "id": "20223e2b",
   "metadata": {},
   "outputs": [],
   "source": [
    "gdf = gdf[['name_long', 'geometry']]\n",
    "gdf"
   ]
  },
  {
   "cell_type": "code",
   "execution_count": null,
   "id": "122cb126",
   "metadata": {},
   "outputs": [],
   "source": [
    "gdf[gdf.name_long == 'Egypt']"
   ]
  },
  {
   "cell_type": "code",
   "execution_count": null,
   "id": "04a91cdd",
   "metadata": {},
   "outputs": [],
   "source": [
    "gdf.plot()"
   ]
  },
  {
   "cell_type": "code",
   "execution_count": null,
   "id": "7faea6bf",
   "metadata": {},
   "outputs": [],
   "source": [
    "gdf.explore()"
   ]
  },
  {
   "cell_type": "code",
   "execution_count": null,
   "id": "edb51c10",
   "metadata": {},
   "outputs": [],
   "source": [
    "gdf[gdf.name_long == 'Egypt'].explore()\n"
   ]
  },
  {
   "cell_type": "markdown",
   "id": "6535ce00",
   "metadata": {},
   "source": [
    "## 1.2.3 Geometry columns"
   ]
  },
  {
   "cell_type": "code",
   "execution_count": null,
   "id": "7899d4dd",
   "metadata": {},
   "outputs": [],
   "source": [
    "gdf.geometry"
   ]
  },
  {
   "cell_type": "code",
   "execution_count": null,
   "id": "21c62c74",
   "metadata": {},
   "outputs": [],
   "source": [
    "gdf.geometry.crs"
   ]
  },
  {
   "cell_type": "code",
   "execution_count": null,
   "id": "e24546a6",
   "metadata": {},
   "outputs": [],
   "source": [
    "gdf.envelope"
   ]
  },
  {
   "cell_type": "code",
   "execution_count": null,
   "id": "8edaef3e",
   "metadata": {},
   "outputs": [],
   "source": [
    "gdf.geometry.envelope"
   ]
  },
  {
   "cell_type": "code",
   "execution_count": null,
   "id": "ebf6b1ab",
   "metadata": {},
   "outputs": [],
   "source": [
    "gdf2 = gdf.copy()\n",
    "gdf2.geometry = gdf.envelope\n",
    "gdf2"
   ]
  },
  {
   "cell_type": "code",
   "execution_count": null,
   "id": "cdd22d1d",
   "metadata": {},
   "outputs": [],
   "source": [
    "gdf.geometry.type"
   ]
  },
  {
   "cell_type": "code",
   "execution_count": null,
   "id": "110a337d",
   "metadata": {},
   "outputs": [],
   "source": [
    "gdf.geometry.type.value_counts()"
   ]
  },
  {
   "cell_type": "code",
   "execution_count": null,
   "id": "e6ff5878",
   "metadata": {},
   "outputs": [],
   "source": [
    "gdf['bbox'] = gdf.envelope\n",
    "gdf['polgon'] = gdf.geometry\n",
    "gdf"
   ]
  },
  {
   "cell_type": "code",
   "execution_count": null,
   "id": "894978d1",
   "metadata": {},
   "outputs": [],
   "source": [
    "gdf = gdf.set_geometry('bbox')\n",
    "gdf.explore()"
   ]
  },
  {
   "cell_type": "markdown",
   "id": "7e44b5ca",
   "metadata": {},
   "source": [
    "## 1.2.5 Geometries"
   ]
  },
  {
   "cell_type": "code",
   "execution_count": null,
   "id": "ea50d143",
   "metadata": {},
   "outputs": [],
   "source": [
    "gdf = gdf.set_geometry(\"geometry\")\n",
    "gdf.geometry.iloc[3]"
   ]
  },
  {
   "cell_type": "code",
   "execution_count": null,
   "id": "bb7a49b2",
   "metadata": {},
   "outputs": [],
   "source": [
    "gdf[gdf.name_long == 'Egypt'].geometry.iloc[0]"
   ]
  },
  {
   "cell_type": "markdown",
   "id": "174ccebf",
   "metadata": {},
   "source": [
    "### Point"
   ]
  },
  {
   "cell_type": "code",
   "execution_count": null,
   "id": "ca1ec9e0",
   "metadata": {},
   "outputs": [],
   "source": [
    "point = shapely.Point(5, 2)\n",
    "point"
   ]
  },
  {
   "cell_type": "markdown",
   "id": "9055e3e6",
   "metadata": {},
   "source": [
    "### LineString"
   ]
  },
  {
   "cell_type": "code",
   "execution_count": null,
   "id": "5f6544eb",
   "metadata": {},
   "outputs": [],
   "source": [
    "linestring = shapely.LineString([(1,5), (4,4), (4,1), (2,2), (3,2)])\n",
    "linestring"
   ]
  },
  {
   "cell_type": "markdown",
   "id": "6f5355d7",
   "metadata": {},
   "source": [
    "### Polygon"
   ]
  },
  {
   "cell_type": "code",
   "execution_count": null,
   "id": "2482d6db",
   "metadata": {},
   "outputs": [],
   "source": [
    "polygon = shapely.Polygon(\n",
    "    [(1,5), (2,2), (4,1), (4,4), (1,5)],  ## Exterior\n",
    "    [[(2,4), (3,4), (3,3), (2,3), (2,4)]]  ## Hole(s)\n",
    ")\n",
    "polygon"
   ]
  },
  {
   "cell_type": "markdown",
   "id": "94721625",
   "metadata": {},
   "source": [
    "### MultiPoint"
   ]
  },
  {
   "cell_type": "code",
   "execution_count": null,
   "id": "005f211e",
   "metadata": {},
   "outputs": [],
   "source": [
    "multipoint = shapely.MultiPoint([(5,2), (1,3), (3,4), (3,2)])\n",
    "multipoint"
   ]
  },
  {
   "cell_type": "markdown",
   "id": "4a620d37",
   "metadata": {},
   "source": [
    "### MultiLineString"
   ]
  },
  {
   "cell_type": "code",
   "execution_count": null,
   "id": "251b7717",
   "metadata": {},
   "outputs": [],
   "source": [
    "multilinestring = shapely.MultiLineString([\n",
    "    [(1,5), (4,4), (4,1), (2,2), (3,2)],  ## 1st sequence\n",
    "    [(1,2), (2,4)]  ## 2nd sequence, etc.\n",
    "])\n",
    "multilinestring"
   ]
  },
  {
   "cell_type": "markdown",
   "id": "4a72c7bf",
   "metadata": {},
   "source": [
    "### MultiPolygon"
   ]
  },
  {
   "cell_type": "code",
   "execution_count": null,
   "id": "798b0789",
   "metadata": {},
   "outputs": [],
   "source": [
    "multipolygon = shapely.MultiPolygon([\n",
    "    [[(1,5), (2,2), (4,1), (4,4), (1,5)], []],  ## Polygon 1 \n",
    "    [[(0,2), (1,2), (1,3), (0,3), (0,2)], []]   ## Polygon 2, etc.\n",
    "])\n",
    "multipolygon"
   ]
  },
  {
   "cell_type": "markdown",
   "id": "063d72b2",
   "metadata": {},
   "source": [
    "### GeometryCollection"
   ]
  },
  {
   "cell_type": "code",
   "execution_count": null,
   "id": "b59777c9",
   "metadata": {},
   "outputs": [],
   "source": [
    "geometrycollection = shapely.GeometryCollection([multipoint, multilinestring])\n",
    "geometrycollection"
   ]
  },
  {
   "cell_type": "code",
   "execution_count": null,
   "id": "f25f8740",
   "metadata": {},
   "outputs": [],
   "source": [
    "multipolygon.buffer(0.2).difference(multipolygon)"
   ]
  },
  {
   "cell_type": "markdown",
   "id": "5acf9e75",
   "metadata": {},
   "source": [
    "## 1.2.6 Vector layer from scratch"
   ]
  },
  {
   "cell_type": "markdown",
   "id": "0b2274a3",
   "metadata": {},
   "source": [
    "First we construct a point geometry using the `Point` class from the `shapely` library. Then we create a `GeoDataFrame` with a single row and a single column containing the point geometry. Finally, we set the coordinate reference system (CRS) to WGS 84 (EPSG:4326) using the `set_crs` method.\n"
   ]
  },
  {
   "cell_type": "code",
   "execution_count": null,
   "id": "a3c1bd2c",
   "metadata": {},
   "outputs": [],
   "source": [
    "lnd_point = shapely.Point(0.1, 51.5)\n",
    "lnd_point"
   ]
  },
  {
   "cell_type": "code",
   "execution_count": null,
   "id": "8e742157",
   "metadata": {},
   "outputs": [],
   "source": [
    "lnd_geo = gpd.GeoSeries(lnd_point, crs=\"EPSG:4326\")\n",
    "lnd_geo"
   ]
  },
  {
   "cell_type": "code",
   "execution_count": null,
   "id": "9fe4ee7d",
   "metadata": {},
   "outputs": [],
   "source": [
    "lnd_data = {\n",
    "    'name': ['London'],\n",
    "    'temperature': [25],\n",
    "    'date': ['2023-06-21'],\n",
    "    'geometry': lnd_geo\n",
    "}\n",
    "\n",
    "lnd_data"
   ]
  },
  {
   "cell_type": "code",
   "execution_count": null,
   "id": "cbd57d2e",
   "metadata": {},
   "outputs": [],
   "source": [
    "lnd_layer = gpd.GeoDataFrame(lnd_data)\n",
    "lnd_layer"
   ]
  },
  {
   "cell_type": "code",
   "execution_count": null,
   "id": "817e812f",
   "metadata": {},
   "outputs": [],
   "source": [
    "lnd_point = shapely.Point(0.1, 51.5)\n",
    "paris_point = shapely.Point(2.3, 48.9)\n",
    "towns_geom = gpd.GeoSeries([lnd_point, paris_point], crs=4326)\n",
    "towns_data = {\n",
    "  'name': ['London', 'Paris'],\n",
    "  'temperature': [25, 27],\n",
    "  'date': ['2013-06-21', '2013-06-21'],\n",
    "  'geometry': towns_geom\n",
    "}\n",
    "towns_layer = gpd.GeoDataFrame(towns_data)\n",
    "towns_layer"
   ]
  },
  {
   "cell_type": "code",
   "execution_count": null,
   "id": "f510e6e1",
   "metadata": {},
   "outputs": [],
   "source": [
    "towns_layer.explore()"
   ]
  },
  {
   "cell_type": "markdown",
   "id": "f0a4f463",
   "metadata": {},
   "source": [
    "A `GeoDataFrame` can also be constructed a DataFrame object that contains columns with coordinates."
   ]
  },
  {
   "cell_type": "code",
   "execution_count": null,
   "id": "f359f56e",
   "metadata": {},
   "outputs": [],
   "source": [
    "towns_table = pd.DataFrame(\n",
    "    {\n",
    "        'name': ['London', 'Paris'],\n",
    "        'temperature': [25, 27],\n",
    "        'date': ['2017-06-21', '2017-06-21'],\n",
    "        'x': [0.1, 2.3],\n",
    "        'y': [51.5, 48.9]\n",
    "    }\n",
    ")\n",
    "towns_geom = gpd.points_from_xy(towns_table.x, towns_table.y, crs=4326)\n",
    "towns_layer = gpd.GeoDataFrame(towns_table, geometry=towns_geom)\n",
    "towns_layer.explore()"
   ]
  },
  {
   "cell_type": "markdown",
   "id": "dbf32de4",
   "metadata": {},
   "source": [
    "## 1.2.7 Derived numerical properties"
   ]
  },
  {
   "cell_type": "code",
   "execution_count": null,
   "id": "e01b32eb",
   "metadata": {},
   "outputs": [],
   "source": [
    "linestring"
   ]
  },
  {
   "cell_type": "code",
   "execution_count": null,
   "id": "c8bc4658",
   "metadata": {},
   "outputs": [],
   "source": [
    "linestring.length"
   ]
  },
  {
   "cell_type": "code",
   "execution_count": null,
   "id": "8b8a99fc",
   "metadata": {},
   "outputs": [],
   "source": [
    "multipolygon.area"
   ]
  },
  {
   "cell_type": "code",
   "execution_count": null,
   "id": "65a8f9fd",
   "metadata": {},
   "outputs": [],
   "source": [
    "gpd.GeoSeries([point, linestring, polygon, multipoint, multilinestring, multipolygon]).area"
   ]
  },
  {
   "cell_type": "code",
   "execution_count": null,
   "id": "accdd532",
   "metadata": {},
   "outputs": [],
   "source": [
    "gdf[gdf.name_long == 'Slovenia'].to_crs(32633).area"
   ]
  },
  {
   "cell_type": "markdown",
   "id": "e26f13b0",
   "metadata": {},
   "source": [
    "## 1.3 Raster data"
   ]
  },
  {
   "cell_type": "markdown",
   "id": "aa3c4176",
   "metadata": {},
   "source": [
    "### 1.3.1 Using rasterio"
   ]
  },
  {
   "cell_type": "code",
   "execution_count": null,
   "id": "064d78c8",
   "metadata": {},
   "outputs": [],
   "source": [
    "import numpy as np\n",
    "import rasterio\n",
    "import rasterio.plot"
   ]
  },
  {
   "cell_type": "code",
   "execution_count": null,
   "id": "271cf74a",
   "metadata": {},
   "outputs": [],
   "source": [
    "src = rasterio.open(r\"F:\\books\\geocompy-main\\data\\srtm.tif\")\n",
    "rasterio.plot.show(src, cmap='terrain')"
   ]
  },
  {
   "cell_type": "code",
   "execution_count": null,
   "id": "10144df7",
   "metadata": {},
   "outputs": [],
   "source": [
    "src.meta"
   ]
  },
  {
   "cell_type": "code",
   "execution_count": null,
   "id": "fd79ae32",
   "metadata": {},
   "outputs": [],
   "source": [
    "src.read(1)"
   ]
  },
  {
   "cell_type": "code",
   "execution_count": null,
   "id": "983ed9dd",
   "metadata": {},
   "outputs": [],
   "source": [
    "elev = np.arange(1, 37, dtype=np.uint8).reshape(6, 6)\n",
    "elev"
   ]
  },
  {
   "cell_type": "code",
   "execution_count": null,
   "id": "b7af788a",
   "metadata": {},
   "outputs": [],
   "source": [
    "v = [\n",
    "  1, 0, 1, 2, 2, 2, \n",
    "  0, 2, 0, 0, 2, 1, \n",
    "  0, 2, 2, 0, 0, 2, \n",
    "  0, 0, 1, 1, 1, 1, \n",
    "  1, 1, 1, 2, 1, 1, \n",
    "  2, 1, 2, 2, 0, 2\n",
    "]\n",
    "grain = np.array(v, dtype=np.uint8).reshape(6, 6)\n",
    "grain"
   ]
  },
  {
   "cell_type": "code",
   "execution_count": null,
   "id": "9dfb5df6",
   "metadata": {},
   "outputs": [],
   "source": [
    "new_transform = rasterio.transform.from_origin(\n",
    "    west=-1.5, \n",
    "    north=1.5, \n",
    "    xsize=0.5, \n",
    "    ysize=0.5\n",
    ")\n",
    "new_transform"
   ]
  },
  {
   "cell_type": "code",
   "execution_count": null,
   "id": "cb2616f9",
   "metadata": {},
   "outputs": [],
   "source": [
    "rasterio.plot.show(elev, transform=new_transform)"
   ]
  },
  {
   "cell_type": "code",
   "execution_count": null,
   "id": "803ff362",
   "metadata": {},
   "outputs": [],
   "source": [
    "rasterio.plot.show(grain, transform=new_transform)"
   ]
  },
  {
   "cell_type": "markdown",
   "id": "099927d1",
   "metadata": {},
   "source": [
    "## 1.4 Coordinate Reference Systems"
   ]
  },
  {
   "cell_type": "code",
   "execution_count": null,
   "id": "18855d68",
   "metadata": {},
   "outputs": [],
   "source": [
    "import pyproj\n",
    "epsg_codes = pyproj.get_codes('EPSG', 'CRS')\n",
    "epsg_codes[:10]"
   ]
  },
  {
   "cell_type": "code",
   "execution_count": null,
   "id": "6994af3a",
   "metadata": {},
   "outputs": [],
   "source": [
    "pyproj.CRS.from_epsg(4326)"
   ]
  },
  {
   "cell_type": "code",
   "execution_count": null,
   "id": "dcdcaac4",
   "metadata": {},
   "outputs": [],
   "source": [
    "zion = gpd.read_file(r\"F:\\books\\geocompy-main\\data\\zion.gpkg\")\n",
    "zion.crs"
   ]
  },
  {
   "cell_type": "code",
   "execution_count": null,
   "id": "f465d88f",
   "metadata": {},
   "outputs": [],
   "source": [
    "zion.explore(\n",
    "    tiles = 'Esri WorldImagery',\n",
    "    style_kwds = {'color': 'black', 'weight': 1, 'fillOpacity': 0.5},\n",
    "    name = 'Zion National Park',\n",
    ")"
   ]
  },
  {
   "cell_type": "code",
   "execution_count": null,
   "id": "31715d78",
   "metadata": {},
   "outputs": [],
   "source": [
    "zion.to_crs(4326).plot(\n",
    "    edgecolor='black',\n",
    "    color='lightgrey'\n",
    ").grid()"
   ]
  },
  {
   "cell_type": "code",
   "execution_count": null,
   "id": "87542468",
   "metadata": {},
   "outputs": [],
   "source": [
    "zion.plot(\n",
    "    edgecolor='black',\n",
    "    color='lightgrey'\n",
    ").grid()"
   ]
  }
 ],
 "metadata": {
  "kernelspec": {
   "display_name": "base",
   "language": "python",
   "name": "python3"
  },
  "language_info": {
   "codemirror_mode": {
    "name": "ipython",
    "version": 3
   },
   "file_extension": ".py",
   "mimetype": "text/x-python",
   "name": "python",
   "nbconvert_exporter": "python",
   "pygments_lexer": "ipython3",
   "version": "3.12.7"
  }
 },
 "nbformat": 4,
 "nbformat_minor": 5
}
