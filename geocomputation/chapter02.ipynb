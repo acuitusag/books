{
 "cells": [
  {
   "cell_type": "markdown",
   "id": "53871dd7",
   "metadata": {},
   "source": [
    "# Chapter 2: Attribute data operations"
   ]
  },
  {
   "cell_type": "markdown",
   "id": "76baf405",
   "metadata": {},
   "source": [
    "### Prerequisites"
   ]
  },
  {
   "cell_type": "code",
   "execution_count": null,
   "id": "47d1691b",
   "metadata": {},
   "outputs": [],
   "source": [
    "import numpy as np\n",
    "import matplotlib.pyplot as plt\n",
    "import pandas as pd\n",
    "import geopandas as gpd\n",
    "import rasterio "
   ]
  },
  {
   "cell_type": "code",
   "execution_count": null,
   "id": "752d73bc",
   "metadata": {},
   "outputs": [],
   "source": [
    "data_path = \"F:\\\\books\\\\geocompy-main\\\\data\\\\\"\n",
    "output_path = \"F:\\\\books\\\\geocompy-main\\\\output\\\\\"\n",
    "world = gpd.read_file(data_path + \"world.gpkg\")\n",
    "src_elev = rasterio.open(output_path + \"elev.tif\")\n",
    "src_grain = rasterio.open(output_path + \"grain.tif\")\n",
    "src_multi_rast = rasterio.open(data_path + \"landsat.tif\")\n",
    "coffee_data = pd.read_csv(data_path + \"coffee_data.csv\")"
   ]
  },
  {
   "cell_type": "markdown",
   "id": "757e20ef",
   "metadata": {},
   "source": [
    "## 2.2 Vector attribute manipulation"
   ]
  },
  {
   "cell_type": "markdown",
   "id": "3da614cc",
   "metadata": {},
   "source": [
    "### 2.2.1 Vector attribute subsetting\n"
   ]
  },
  {
   "cell_type": "code",
   "execution_count": null,
   "id": "6c88e6a3",
   "metadata": {},
   "outputs": [],
   "source": [
    "world.iloc[0:3, :]"
   ]
  },
  {
   "cell_type": "code",
   "execution_count": null,
   "id": "ec97570b",
   "metadata": {},
   "outputs": [],
   "source": [
    "world.iloc[:, 0:3]"
   ]
  },
  {
   "cell_type": "code",
   "execution_count": null,
   "id": "54c78bb3",
   "metadata": {},
   "outputs": [],
   "source": [
    "world.iloc[0:3, 0:3]  # Display first three rows and columns of the world GeoDataFrame"
   ]
  },
  {
   "cell_type": "code",
   "execution_count": null,
   "id": "ad3612a1",
   "metadata": {},
   "outputs": [],
   "source": [
    "world[['name_long', 'geometry']]  # Display all rows of the 'name_long' and 'geometry' columns"
   ]
  },
  {
   "cell_type": "code",
   "execution_count": null,
   "id": "bf4657cb",
   "metadata": {},
   "outputs": [],
   "source": [
    "world.loc[:, 'name_long':'pop']"
   ]
  },
  {
   "cell_type": "code",
   "execution_count": null,
   "id": "5dc2182a",
   "metadata": {},
   "outputs": [],
   "source": [
    "world.drop([2, 3, 5])"
   ]
  },
  {
   "cell_type": "code",
   "execution_count": null,
   "id": "19cb6715",
   "metadata": {},
   "outputs": [],
   "source": [
    "world.drop(columns=['name_long', 'continent'])  # Drop the 'name_long' and 'continent' columns"
   ]
  },
  {
   "cell_type": "code",
   "execution_count": null,
   "id": "08635eeb",
   "metadata": {},
   "outputs": [],
   "source": [
    "world.drop(['name_long', 'continent'], axis=1)  # Drop the 'name_long' and 'continent' columns"
   ]
  },
  {
   "cell_type": "code",
   "execution_count": null,
   "id": "de387032",
   "metadata": {},
   "outputs": [],
   "source": [
    "world.drop(index=[2, 3, 5])  # Drop rows with indices 2, 3, and 5 from the world GeoDataFrame"
   ]
  },
  {
   "cell_type": "code",
   "execution_count": null,
   "id": "2b371a67",
   "metadata": {},
   "outputs": [],
   "source": [
    "world[['name_long', 'pop']].rename(columns={'name_long': 'country', 'pop': 'population'})  # Rename columns in the world GeoDataFrame"
   ]
  },
  {
   "cell_type": "code",
   "execution_count": null,
   "id": "c7efb1de",
   "metadata": {},
   "outputs": [],
   "source": [
    "idx_small = world.area_km2 < 10_000\n",
    "small_countries = world[idx_small]  # Filter small countries based on area_km2\n",
    "small_countries"
   ]
  },
  {
   "cell_type": "code",
   "execution_count": null,
   "id": "f791908c",
   "metadata": {},
   "outputs": [],
   "source": [
    "world[world.continent == 'Asia'] \\\n",
    "    .loc[:, ['name_long', 'continent']] \\\n",
    "    .iloc[0:5, :]  # Filter Asian countries and display the first five rows of 'name_long' and 'continent' columns"
   ]
  },
  {
   "cell_type": "code",
   "execution_count": null,
   "id": "bfce339c",
   "metadata": {},
   "outputs": [],
   "source": [
    "world[\n",
    "    (world.continent == 'North America') |\n",
    "    (world.continent == 'South America')\n",
    "] \\\n",
    ".loc[:, ['name_long', 'continent']]"
   ]
  },
  {
   "cell_type": "markdown",
   "id": "de2810c6",
   "metadata": {},
   "source": [
    "### 2.2.2 Vector attribute aggregation"
   ]
  },
  {
   "cell_type": "code",
   "execution_count": null,
   "id": "cd8595c0",
   "metadata": {},
   "outputs": [],
   "source": [
    "world_agg1 = world.groupby('continent')[['pop']].sum().reset_index()  # Group by continent and sum the population\n",
    "world_agg1"
   ]
  },
  {
   "cell_type": "code",
   "execution_count": null,
   "id": "21fa1693",
   "metadata": {},
   "outputs": [],
   "source": [
    "world_agg2 = world[['continent', 'pop','geometry']] \\\n",
    "    .dissolve(by='continent', aggfunc='sum') \\\n",
    "    .reset_index()  # Dissolve the GeoDataFrame by continent and sum the population\n",
    "world_agg2"
   ]
  },
  {
   "cell_type": "code",
   "execution_count": null,
   "id": "5c7dbf9e",
   "metadata": {},
   "outputs": [],
   "source": [
    "fig, ax = plt.subplots(figsize=(6, 3))\n",
    "world_agg2.plot(column='pop', ax=ax, edgecolor='black', legend=True)\n",
    "ax.set_title('Population by Continent')"
   ]
  },
  {
   "cell_type": "code",
   "execution_count": null,
   "id": "70156ce0",
   "metadata": {},
   "outputs": [],
   "source": [
    "world_agg3 = world.dissolve(\n",
    "    by='continent',\n",
    "    aggfunc={\n",
    "        'name_long': 'count',\n",
    "        'pop': 'sum',\n",
    "        'area_km2': 'sum'\n",
    "    }\n",
    "    ).rename(columns={'name_long': 'n'}).reset_index()\n",
    "world_agg3 # Dissolve the GeoDataFrame by continent and aggregate multiple columns"
   ]
  },
  {
   "cell_type": "code",
   "execution_count": null,
   "id": "e74b398d",
   "metadata": {},
   "outputs": [],
   "source": [
    "# Summed population\n",
    "fig, ax = plt.subplots(figsize=(5, 2.5))\n",
    "world_agg3.plot(column='pop', edgecolor='black', legend=True, ax=ax)"
   ]
  },
  {
   "cell_type": "code",
   "execution_count": null,
   "id": "335bfc1d",
   "metadata": {},
   "outputs": [],
   "source": [
    "# Summed area\n",
    "fig, ax = plt.subplots(figsize=(5, 2.5))\n",
    "world_agg3.plot(column='area_km2', edgecolor='black', legend=True, ax=ax)"
   ]
  },
  {
   "cell_type": "code",
   "execution_count": null,
   "id": "2927595a",
   "metadata": {},
   "outputs": [],
   "source": [
    "# Count of countries\n",
    "fig, ax = plt.subplots(figsize=(5, 2.5))\n",
    "world_agg3.plot(column='n', edgecolor='black', legend=True, ax=ax)"
   ]
  },
  {
   "cell_type": "code",
   "execution_count": null,
   "id": "d4c77f2e",
   "metadata": {},
   "outputs": [],
   "source": [
    "world_agg4 = world_agg3.drop(columns=['geometry'])  # Drop the geometry column from the aggregated DataFrame\n",
    "world_agg4['density'] = world_agg4['pop'] / world_agg4['area_km2']  # Calculate population density\n",
    "world_agg4 = world_agg4.sort_values(by='n', ascending=False)  # Sort by density in descending order\n",
    "world_agg4 = world_agg4.head(3)\n",
    "world_agg4"
   ]
  },
  {
   "cell_type": "markdown",
   "id": "2eac5d4a",
   "metadata": {},
   "source": [
    "### 2.2.3 Vector attribute joining"
   ]
  },
  {
   "cell_type": "code",
   "execution_count": null,
   "id": "fd28dbe8",
   "metadata": {},
   "outputs": [],
   "source": [
    "world_coffee = pd.merge(world, coffee_data, on='name_long', how='left')\n",
    "world_coffee  # Merge world GeoDataFrame with coffee data"
   ]
  },
  {
   "cell_type": "code",
   "execution_count": null,
   "id": "0fcfe962",
   "metadata": {},
   "outputs": [],
   "source": [
    "base = world_coffee.plot(color='white', edgecolor='lightgrey')\n",
    "coffee_map = world_coffee.plot(ax=base, column='coffee_production_2017')"
   ]
  },
  {
   "cell_type": "code",
   "execution_count": null,
   "id": "ee2b07e6",
   "metadata": {},
   "outputs": [],
   "source": [
    "pd.merge(world, coffee_data, on='name_long', how='inner')  # Merge world GeoDataFrame with coffee data"
   ]
  },
  {
   "cell_type": "markdown",
   "id": "81ee482a",
   "metadata": {},
   "source": [
    "### 2.2.4 Creating attributes and removing spatial information"
   ]
  },
  {
   "cell_type": "code",
   "execution_count": null,
   "id": "4fad6b0a",
   "metadata": {},
   "outputs": [],
   "source": [
    "world2 = world.copy()\n",
    "world2['pop_density'] = world2['pop'] / world2['area_km2']\n",
    "world2\n"
   ]
  },
  {
   "cell_type": "code",
   "execution_count": null,
   "id": "fba4d53d",
   "metadata": {},
   "outputs": [],
   "source": [
    "world2[['name_long', 'pop', 'area_km2', 'pop_density', 'geometry']]"
   ]
  },
  {
   "cell_type": "code",
   "execution_count": null,
   "id": "d60571b3",
   "metadata": {},
   "outputs": [],
   "source": [
    "world2['con_reg'] = world['continent'] + ':' + world2['region_un']  # Create a new column 'con_reg' by concatenating continent and region\n",
    "world2 = world2.drop(columns = ['continent', 'region_un'])  # Drop the original continent and region columns\n",
    "world2"
   ]
  },
  {
   "cell_type": "code",
   "execution_count": null,
   "id": "240569fe",
   "metadata": {},
   "outputs": [],
   "source": [
    "world2[['continent', 'region_un']] = world2['con_reg'] \\\n",
    "    .str.split(':', expand=True)  # Split the 'con_reg' column back into continent and region columns\n",
    "world2[['name_long', 'con_reg', 'continent', 'region_un', 'geometry']].head(3)  # Display the first three rows of the modified DataFrame"
   ]
  },
  {
   "cell_type": "code",
   "execution_count": null,
   "id": "0def7ab6",
   "metadata": {},
   "outputs": [],
   "source": [
    "world2.rename(columns={'name_long': 'name'}, inplace=True)  # Rename 'name_long' to 'name'\n",
    "world2[['name', 'con_reg', 'continent', 'region_un', 'geometry']].head(3)  # Display the first three rows of the modified DataFrame"
   ]
  },
  {
   "cell_type": "code",
   "execution_count": null,
   "id": "03fbe247",
   "metadata": {},
   "outputs": [],
   "source": [
    "new_names = ['a', 'b', 'c', 'd', 'e', 'f', 'g', 'h', 'geom', 'i', 'j', 'k', 'l']\n",
    "world2.columns = new_names\n",
    "world2"
   ]
  },
  {
   "cell_type": "code",
   "execution_count": null,
   "id": "b5f745bb",
   "metadata": {},
   "outputs": [],
   "source": [
    "names = sorted(world2.columns, reverse=True)  # Sort the column names in descending order\n",
    "world2 = world2[names]  # Reorder the columns based on the sorted names\n",
    "world2"
   ]
  },
  {
   "cell_type": "code",
   "execution_count": null,
   "id": "0cb8bd92",
   "metadata": {},
   "outputs": [],
   "source": [
    "world2.columns"
   ]
  },
  {
   "cell_type": "code",
   "execution_count": null,
   "id": "3b35adb0",
   "metadata": {},
   "outputs": [],
   "source": [
    "world2 = world2.drop('geom', axis=1)  # Drop the 'geom' column from the DataFrame\n",
    "world2 = pd.DataFrame(world2)"
   ]
  },
  {
   "cell_type": "code",
   "execution_count": null,
   "id": "def11d85",
   "metadata": {},
   "outputs": [],
   "source": [
    "world2.columns"
   ]
  }
 ],
 "metadata": {
  "kernelspec": {
   "display_name": "base",
   "language": "python",
   "name": "python3"
  },
  "language_info": {
   "codemirror_mode": {
    "name": "ipython",
    "version": 3
   },
   "file_extension": ".py",
   "mimetype": "text/x-python",
   "name": "python",
   "nbconvert_exporter": "python",
   "pygments_lexer": "ipython3",
   "version": "3.12.7"
  }
 },
 "nbformat": 4,
 "nbformat_minor": 5
}
