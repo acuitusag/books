{
 "cells": [
  {
   "cell_type": "markdown",
   "id": "3f94f424",
   "metadata": {},
   "source": [
    "# Chapter 1: Pandas DataFrame Basics"
   ]
  },
  {
   "cell_type": "code",
   "execution_count": null,
   "id": "6dce5ca6",
   "metadata": {},
   "outputs": [],
   "source": [
    "import pandas as pd"
   ]
  },
  {
   "cell_type": "markdown",
   "id": "6a5e0156",
   "metadata": {},
   "source": [
    "## 1.2 Load your first dataset"
   ]
  },
  {
   "cell_type": "markdown",
   "id": "1a045cc1",
   "metadata": {},
   "source": [
    "### Import GapMinder Dataset"
   ]
  },
  {
   "cell_type": "code",
   "execution_count": null,
   "id": "1fc574d1",
   "metadata": {},
   "outputs": [],
   "source": [
    "df = pd.read_csv(r\"F:\\book files\\pandas_for_everyone\\data\\gapminder.tsv\",\n",
    "                  sep=\"\\t\")\n",
    "df"
   ]
  },
  {
   "cell_type": "code",
   "execution_count": null,
   "id": "79ba025d",
   "metadata": {},
   "outputs": [],
   "source": [
    "print(\"Shape\\n\", df.shape, \"\\n\")\n",
    "print(\"Columns\\n\", df.columns, \"\\n\")\n",
    "print(\"Data Types\\n\", df.dtypes, \"\\n\")"
   ]
  },
  {
   "cell_type": "code",
   "execution_count": null,
   "id": "ca9b40f2",
   "metadata": {},
   "outputs": [],
   "source": [
    "df.info()"
   ]
  },
  {
   "cell_type": "markdown",
   "id": "2b281292",
   "metadata": {},
   "source": [
    "## 1.3 Look at Columns, Rows, and Cells"
   ]
  },
  {
   "cell_type": "code",
   "execution_count": null,
   "id": "83f9a6c1",
   "metadata": {},
   "outputs": [],
   "source": [
    "df.head(n=5)"
   ]
  },
  {
   "cell_type": "markdown",
   "id": "73ab869e",
   "metadata": {},
   "source": [
    "#### 1.3.1 Select and Subset Columns by Name\n",
    "\n"
   ]
  },
  {
   "cell_type": "code",
   "execution_count": null,
   "id": "4101ec06",
   "metadata": {},
   "outputs": [],
   "source": [
    "country_df = df[[\"country\"]]\n",
    "country_df.head(n=5)"
   ]
  },
  {
   "cell_type": "code",
   "execution_count": null,
   "id": "1347dd19",
   "metadata": {},
   "outputs": [],
   "source": [
    "country_df.tail(n=5)"
   ]
  },
  {
   "cell_type": "code",
   "execution_count": null,
   "id": "f06e259b",
   "metadata": {},
   "outputs": [],
   "source": [
    "subset = df[[\"country\", \"continent\", \"year\"]]\n",
    "subset"
   ]
  },
  {
   "cell_type": "markdown",
   "id": "43c64c35",
   "metadata": {},
   "source": [
    "##### 1.3.1.1 Single Value Returns DataFrame or Series"
   ]
  },
  {
   "cell_type": "code",
   "execution_count": null,
   "id": "409e102a",
   "metadata": {},
   "outputs": [],
   "source": [
    "country_df = df['country']\n",
    "print(country_df)\n",
    "type(country_df)"
   ]
  },
  {
   "cell_type": "code",
   "execution_count": null,
   "id": "a84ffcd8",
   "metadata": {},
   "outputs": [],
   "source": [
    "country_df_list = df[['country']]\n",
    "print(country_df_list)\n",
    "type(country_df_list)"
   ]
  },
  {
   "cell_type": "markdown",
   "id": "5577dc82",
   "metadata": {},
   "source": [
    "##### 1.3.1.2 Using Dot Notation to Pull a Column of Values"
   ]
  },
  {
   "cell_type": "markdown",
   "id": "a441c528",
   "metadata": {},
   "source": [
    "The following two commands give identical results."
   ]
  },
  {
   "cell_type": "code",
   "execution_count": null,
   "id": "4028c039",
   "metadata": {},
   "outputs": [],
   "source": [
    "print(df['country'])\n",
    "print(type(df['country']))\n",
    "print(df.country)\n",
    "print(type(df.country))"
   ]
  },
  {
   "cell_type": "markdown",
   "id": "9d10df2b",
   "metadata": {},
   "source": [
    "#### 1.3.2 Subset Rows\n",
    "##### 1.3.2.1 Subset Rows by index Label - .loc[]"
   ]
  },
  {
   "cell_type": "code",
   "execution_count": null,
   "id": "99befaae",
   "metadata": {},
   "outputs": [],
   "source": [
    "df"
   ]
  },
  {
   "cell_type": "markdown",
   "id": "151604d1",
   "metadata": {},
   "source": [
    "Get the first row"
   ]
  },
  {
   "cell_type": "code",
   "execution_count": null,
   "id": "86715dbc",
   "metadata": {},
   "outputs": [],
   "source": [
    "df.loc[0]"
   ]
  },
  {
   "cell_type": "markdown",
   "id": "5e62da91",
   "metadata": {},
   "source": [
    "Get the 100th row of the DataFrame using `.loc[]`"
   ]
  },
  {
   "cell_type": "code",
   "execution_count": null,
   "id": "4ff139b5",
   "metadata": {},
   "outputs": [],
   "source": [
    "df.loc[99]"
   ]
  },
  {
   "cell_type": "markdown",
   "id": "309f8aa4",
   "metadata": {},
   "source": [
    "Multiple ways to get the last row of a DataFrame"
   ]
  },
  {
   "cell_type": "code",
   "execution_count": null,
   "id": "d80e581a",
   "metadata": {},
   "outputs": [],
   "source": [
    "number_of_rows = df.shape[0]\n",
    "last_row_index = number_of_rows - 1\n",
    "df.loc[last_row_index]"
   ]
  },
  {
   "cell_type": "code",
   "execution_count": null,
   "id": "4ef7d762",
   "metadata": {},
   "outputs": [],
   "source": [
    "df.tail(n=1)"
   ]
  },
  {
   "cell_type": "markdown",
   "id": "6fa69fd2",
   "metadata": {},
   "source": [
    "The loc method gives a series and the head method gives a DataFrame."
   ]
  },
  {
   "cell_type": "code",
   "execution_count": null,
   "id": "e96e954d",
   "metadata": {},
   "outputs": [],
   "source": [
    "subset_loc = df.loc[0]\n",
    "print(type(subset_loc))\n",
    "subset_head = df.head(n=1)\n",
    "print(type(subset_head))"
   ]
  },
  {
   "cell_type": "markdown",
   "id": "a537fca9",
   "metadata": {},
   "source": [
    "##### 1.3.2.2 Subsetting Multiple Rows"
   ]
  },
  {
   "cell_type": "code",
   "execution_count": null,
   "id": "56767edc",
   "metadata": {},
   "outputs": [],
   "source": [
    "\n",
    "df.loc[[0, 99, 999]]"
   ]
  },
  {
   "cell_type": "markdown",
   "id": "e8d4da1f",
   "metadata": {},
   "source": [
    "#### 1.3.3 Subset Rows by Row Number: .iloc[]"
   ]
  },
  {
   "cell_type": "markdown",
   "id": "d34bd4e5",
   "metadata": {},
   "source": [
    "Get the first and 100th rows"
   ]
  },
  {
   "cell_type": "code",
   "execution_count": null,
   "id": "3ea7c70a",
   "metadata": {},
   "outputs": [],
   "source": [
    "print(\"First Row \\n\", df.iloc[0], \"\\n\")\n",
    "print(\"100th Row \\n\", df.iloc[99], \"\\n\")"
   ]
  },
  {
   "cell_type": "markdown",
   "id": "bc14080f",
   "metadata": {},
   "source": [
    "Get the last row"
   ]
  },
  {
   "cell_type": "code",
   "execution_count": null,
   "id": "054421f7",
   "metadata": {},
   "outputs": [],
   "source": [
    "df.iloc[-1]"
   ]
  },
  {
   "cell_type": "markdown",
   "id": "92189d7e",
   "metadata": {},
   "source": [
    "Get the first, 100th, 1000th, and last rows"
   ]
  },
  {
   "cell_type": "code",
   "execution_count": null,
   "id": "bc2fd355",
   "metadata": {},
   "outputs": [],
   "source": [
    "df.iloc[[0, 99, 999, -1]]"
   ]
  },
  {
   "cell_type": "markdown",
   "id": "1c98df9a",
   "metadata": {},
   "source": [
    "#### 1.3.4 Mix it Up\n",
    "##### 1.3.4.1 Selecting Columns"
   ]
  },
  {
   "cell_type": "code",
   "execution_count": null,
   "id": "880308bd",
   "metadata": {},
   "outputs": [],
   "source": [
    "subset = df.loc[:, [\"year\", \"pop\"]]\n",
    "subset"
   ]
  },
  {
   "cell_type": "code",
   "execution_count": null,
   "id": "cc3a12e8",
   "metadata": {},
   "outputs": [],
   "source": [
    "subset = df.iloc[:, [2, 4, -1]]\n",
    "subset"
   ]
  },
  {
   "cell_type": "code",
   "execution_count": null,
   "id": "d94d908a",
   "metadata": {},
   "outputs": [],
   "source": [
    "subset = df.loc[:, [2, 4, -1]]\n",
    "print(subset)"
   ]
  },
  {
   "cell_type": "code",
   "execution_count": null,
   "id": "ccdba839",
   "metadata": {},
   "outputs": [],
   "source": [
    "subset = df.iloc[:, [2, 4, -1]]\n",
    "print(subset)"
   ]
  },
  {
   "cell_type": "markdown",
   "id": "fabb9d05",
   "metadata": {},
   "source": [
    "##### 1.3.4.2 Subsetting with range()"
   ]
  },
  {
   "cell_type": "code",
   "execution_count": null,
   "id": "b98d4af5",
   "metadata": {},
   "outputs": [],
   "source": [
    "small_range = list(range(5))\n",
    "small_range"
   ]
  },
  {
   "cell_type": "code",
   "execution_count": null,
   "id": "6896c793",
   "metadata": {},
   "outputs": [],
   "source": [
    "df.columns"
   ]
  },
  {
   "cell_type": "code",
   "execution_count": null,
   "id": "70fb7fbe",
   "metadata": {},
   "outputs": [],
   "source": [
    "subset = df.iloc[:, small_range]\n",
    "subset"
   ]
  },
  {
   "cell_type": "code",
   "execution_count": null,
   "id": "897665f9",
   "metadata": {},
   "outputs": [],
   "source": [
    "small_range = list(range(3, 6))\n",
    "print(small_range)\n",
    "subset = df.iloc[:, small_range]\n",
    "subset"
   ]
  },
  {
   "cell_type": "code",
   "execution_count": null,
   "id": "663d1886",
   "metadata": {},
   "outputs": [],
   "source": [
    "small_range = list(range(0, 6, 2))\n",
    "print(small_range)\n",
    "subset = df.iloc[:, small_range]\n",
    "subset"
   ]
  },
  {
   "cell_type": "markdown",
   "id": "2d625df5",
   "metadata": {},
   "source": [
    "##### 1.3.4.3 Subsetting with Slicing :"
   ]
  },
  {
   "cell_type": "code",
   "execution_count": null,
   "id": "b620ecd3",
   "metadata": {},
   "outputs": [],
   "source": [
    "df.columns"
   ]
  },
  {
   "cell_type": "code",
   "execution_count": null,
   "id": "4ff6201b",
   "metadata": {},
   "outputs": [],
   "source": [
    "small_range = list(range(3))\n",
    "print(small_range)\n",
    "subset = df.iloc[:, small_range]\n",
    "subset"
   ]
  },
  {
   "cell_type": "code",
   "execution_count": null,
   "id": "edc54f4a",
   "metadata": {},
   "outputs": [],
   "source": [
    "df.iloc[:, :3]"
   ]
  },
  {
   "cell_type": "code",
   "execution_count": null,
   "id": "d806107f",
   "metadata": {},
   "outputs": [],
   "source": [
    "small_range = list(range(3, 6))\n",
    "print(small_range)\n",
    "subset = df.iloc[:, small_range]\n",
    "subset"
   ]
  },
  {
   "cell_type": "code",
   "execution_count": null,
   "id": "b92478ec",
   "metadata": {},
   "outputs": [],
   "source": [
    "df.iloc[:, 3:6]"
   ]
  },
  {
   "cell_type": "code",
   "execution_count": null,
   "id": "3232e3f8",
   "metadata": {},
   "outputs": [],
   "source": [
    "small_range = list(range(0, 6, 2))\n",
    "print(small_range)\n",
    "subset = df.iloc[:, small_range]\n",
    "subset"
   ]
  },
  {
   "cell_type": "code",
   "execution_count": null,
   "id": "5af3ebf4",
   "metadata": {},
   "outputs": [],
   "source": [
    "df.iloc[:, 0:6:2]"
   ]
  },
  {
   "cell_type": "markdown",
   "id": "6ac8647d",
   "metadata": {},
   "source": [
    "#### 1.3.5 Subset Rows and Columns"
   ]
  },
  {
   "cell_type": "code",
   "execution_count": null,
   "id": "a67170e4",
   "metadata": {},
   "outputs": [],
   "source": [
    "df.loc[42, 'country']"
   ]
  },
  {
   "cell_type": "code",
   "execution_count": null,
   "id": "fa2b66a7",
   "metadata": {},
   "outputs": [],
   "source": [
    "df.iloc[42, 0]"
   ]
  },
  {
   "cell_type": "code",
   "execution_count": null,
   "id": "e8c7a1c0",
   "metadata": {},
   "outputs": [],
   "source": [
    "df.loc[42, 0]"
   ]
  },
  {
   "cell_type": "markdown",
   "id": "9b6f5ff4",
   "metadata": {},
   "source": [
    "##### 1.3.5.1 Subsetting Multipe Rows and Columns"
   ]
  },
  {
   "cell_type": "code",
   "execution_count": null,
   "id": "dbbd1d0e",
   "metadata": {},
   "outputs": [],
   "source": [
    "df.iloc[[0, 99, 999, -1], [0, 3, 5]]"
   ]
  },
  {
   "cell_type": "code",
   "execution_count": null,
   "id": "c653a504",
   "metadata": {},
   "outputs": [],
   "source": [
    "df.loc[[0, 99, 999], ['country', 'lifeExp', 'gdpPercap']]"
   ]
  },
  {
   "cell_type": "markdown",
   "id": "82c643b9",
   "metadata": {},
   "source": [
    "## 1.4 Grouped and Aggregated Calculations"
   ]
  },
  {
   "cell_type": "code",
   "execution_count": null,
   "id": "702aee33",
   "metadata": {},
   "outputs": [],
   "source": [
    "df"
   ]
  },
  {
   "cell_type": "markdown",
   "id": "2dedc674",
   "metadata": {},
   "source": [
    "### 1.4.1 Grouped Means"
   ]
  },
  {
   "cell_type": "code",
   "execution_count": null,
   "id": "c046e68d",
   "metadata": {},
   "outputs": [],
   "source": [
    "summary = df.groupby('year')['lifeExp'].mean()\n",
    "print(type(summary))\n",
    "summary"
   ]
  },
  {
   "cell_type": "code",
   "execution_count": null,
   "id": "c0c1be3e",
   "metadata": {},
   "outputs": [],
   "source": [
    "print(df.groupby('year'))\n",
    "print(df.groupby('year')['lifeExp'])\n",
    "print(df.groupby('year')['lifeExp'].mean())"
   ]
  },
  {
   "cell_type": "code",
   "execution_count": null,
   "id": "ca7e5115",
   "metadata": {},
   "outputs": [],
   "source": [
    "df.groupby(['year', 'continent'])[['lifeExp', 'gdpPercap']].mean()"
   ]
  },
  {
   "cell_type": "code",
   "execution_count": null,
   "id": "6d505680",
   "metadata": {},
   "outputs": [],
   "source": [
    "multi_group_var = df\\\n",
    "    .groupby(['year', 'continent'])\\\n",
    "    [['lifeExp', 'gdpPercap']]\\\n",
    "    .mean()\n",
    "\n",
    "print(type(multi_group_var))\n",
    "print(multi_group_var)\n"
   ]
  },
  {
   "cell_type": "markdown",
   "id": "3b8ff1c0",
   "metadata": {},
   "source": [
    "This is really useful notation for chaining together multiple operations."
   ]
  },
  {
   "cell_type": "code",
   "execution_count": null,
   "id": "78da66b8",
   "metadata": {},
   "outputs": [],
   "source": [
    "multi_group_var = (\n",
    "    df\n",
    "    .groupby(['year', 'continent'])\n",
    "    [['lifeExp', 'gdpPercap']]\n",
    "    .mean()\n",
    ")\n",
    "print(multi_group_var)"
   ]
  },
  {
   "cell_type": "code",
   "execution_count": null,
   "id": "b3c0f15b",
   "metadata": {},
   "outputs": [],
   "source": [
    "flat = multi_group_var.reset_index()\n",
    "print(flat)"
   ]
  },
  {
   "cell_type": "markdown",
   "id": "78747abc",
   "metadata": {},
   "source": [
    "### 1.4.2 Grouped Frequency Counts"
   ]
  },
  {
   "cell_type": "code",
   "execution_count": null,
   "id": "81bbc3f6",
   "metadata": {},
   "outputs": [],
   "source": [
    "df.groupby('continent')['country'].nunique()"
   ]
  },
  {
   "cell_type": "markdown",
   "id": "de078fba",
   "metadata": {},
   "source": [
    "## 1.5 Basic Plot"
   ]
  },
  {
   "cell_type": "code",
   "execution_count": null,
   "id": "991b2dd1",
   "metadata": {},
   "outputs": [],
   "source": [
    "global_yearly_life_expectancy = df.groupby('year')['lifeExp'].mean()\n",
    "print(global_yearly_life_expectancy)"
   ]
  },
  {
   "cell_type": "code",
   "execution_count": null,
   "id": "901d605c",
   "metadata": {},
   "outputs": [],
   "source": [
    "import matplotlib.pyplot as plt\n",
    "global_yearly_life_expectancy.plot()\n",
    "plt.xlabel('Year')\n",
    "plt.ylabel('Life Expectancy')\n",
    "plt.title('Global Yearly Life Expectancy')\n",
    "plt.show()"
   ]
  }
 ],
 "metadata": {
  "kernelspec": {
   "display_name": "base",
   "language": "python",
   "name": "python3"
  },
  "language_info": {
   "codemirror_mode": {
    "name": "ipython",
    "version": 3
   },
   "file_extension": ".py",
   "mimetype": "text/x-python",
   "name": "python",
   "nbconvert_exporter": "python",
   "pygments_lexer": "ipython3",
   "version": "3.13.5"
  }
 },
 "nbformat": 4,
 "nbformat_minor": 5
}
