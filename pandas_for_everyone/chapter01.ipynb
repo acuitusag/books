{
 "cells": [
  {
   "cell_type": "markdown",
   "id": "3f94f424",
   "metadata": {},
   "source": [
    "# Pandas for Everyone: Chapter 1 Introduction"
   ]
  },
  {
   "cell_type": "code",
   "execution_count": null,
   "id": "6dce5ca6",
   "metadata": {},
   "outputs": [],
   "source": [
    "import pandas as pd"
   ]
  },
  {
   "cell_type": "markdown",
   "id": "6a5e0156",
   "metadata": {},
   "source": [
    "## 1.2 Load your first dataset"
   ]
  },
  {
   "cell_type": "markdown",
   "id": "1a045cc1",
   "metadata": {},
   "source": [
    "### Import GapMinder Dataset"
   ]
  },
  {
   "cell_type": "code",
   "execution_count": null,
   "id": "1fc574d1",
   "metadata": {},
   "outputs": [],
   "source": [
    "df = pd.read_csv(r\"F:\\book files\\pandas_for_everyone\\data\\gapminder.tsv\",\n",
    "                  sep=\"\\t\")\n",
    "df"
   ]
  },
  {
   "cell_type": "code",
   "execution_count": null,
   "id": "79ba025d",
   "metadata": {},
   "outputs": [],
   "source": [
    "print(df.shape)\n",
    "print(df.columns)\n",
    "print(df.dtypes)\n",
    "df.info()"
   ]
  },
  {
   "cell_type": "markdown",
   "id": "2b281292",
   "metadata": {},
   "source": [
    "### 1.3 Look at Columns, Rows, and Cells"
   ]
  },
  {
   "cell_type": "code",
   "execution_count": null,
   "id": "83f9a6c1",
   "metadata": {},
   "outputs": [],
   "source": [
    "df.head(n=5)"
   ]
  },
  {
   "cell_type": "markdown",
   "id": "73ab869e",
   "metadata": {},
   "source": [
    "#### 1.3.1 Select and Subset Columns by Name\n",
    "\n"
   ]
  },
  {
   "cell_type": "code",
   "execution_count": null,
   "id": "4101ec06",
   "metadata": {},
   "outputs": [],
   "source": [
    "country_df = df[[\"country\"]]\n",
    "country_df.head(n=5)"
   ]
  },
  {
   "cell_type": "code",
   "execution_count": null,
   "id": "1347dd19",
   "metadata": {},
   "outputs": [],
   "source": [
    "country_df.tail(n=5)"
   ]
  },
  {
   "cell_type": "code",
   "execution_count": null,
   "id": "f06e259b",
   "metadata": {},
   "outputs": [],
   "source": [
    "subset = df[[\"country\", \"continent\", \"year\"]]\n",
    "subset"
   ]
  },
  {
   "cell_type": "markdown",
   "id": "43c64c35",
   "metadata": {},
   "source": [
    "##### 1.3.1.1 Single Value Returns DataFrame or Series"
   ]
  },
  {
   "cell_type": "code",
   "execution_count": null,
   "id": "409e102a",
   "metadata": {},
   "outputs": [],
   "source": [
    "country_df = df['country']\n",
    "type(country_df)"
   ]
  },
  {
   "cell_type": "code",
   "execution_count": null,
   "id": "250201cb",
   "metadata": {},
   "outputs": [],
   "source": [
    "print(country_df)"
   ]
  },
  {
   "cell_type": "code",
   "execution_count": null,
   "id": "a84ffcd8",
   "metadata": {},
   "outputs": [],
   "source": [
    "country_df_list = df[['country']]\n",
    "print(country_df_list)"
   ]
  },
  {
   "cell_type": "markdown",
   "id": "5577dc82",
   "metadata": {},
   "source": [
    "##### 1.3.1.2 Using Dot Notation to Pull a Column of Values"
   ]
  },
  {
   "cell_type": "code",
   "execution_count": null,
   "id": "4028c039",
   "metadata": {},
   "outputs": [],
   "source": [
    "print(df['country'])"
   ]
  },
  {
   "cell_type": "code",
   "execution_count": null,
   "id": "dcde60bd",
   "metadata": {},
   "outputs": [],
   "source": [
    "print(df.country)"
   ]
  },
  {
   "cell_type": "markdown",
   "id": "9d10df2b",
   "metadata": {},
   "source": [
    "#### 1.3.2 Subset Rows\n",
    "##### 1.3.2.1 Subset Rows by index Label - .loc[]"
   ]
  },
  {
   "cell_type": "code",
   "execution_count": null,
   "id": "99befaae",
   "metadata": {},
   "outputs": [],
   "source": [
    "print(df)"
   ]
  },
  {
   "cell_type": "code",
   "execution_count": null,
   "id": "86715dbc",
   "metadata": {},
   "outputs": [],
   "source": [
    "df.loc[0]"
   ]
  },
  {
   "cell_type": "code",
   "execution_count": null,
   "id": "4ff139b5",
   "metadata": {},
   "outputs": [],
   "source": [
    "df.loc[100]"
   ]
  },
  {
   "cell_type": "code",
   "execution_count": null,
   "id": "d80e581a",
   "metadata": {},
   "outputs": [],
   "source": [
    "number_of_rows = df.shape[0]\n",
    "last_row_index = number_of_rows - 1\n",
    "print(df.loc[last_row_index])"
   ]
  },
  {
   "cell_type": "code",
   "execution_count": null,
   "id": "4ef7d762",
   "metadata": {},
   "outputs": [],
   "source": [
    "print(df.tail(n=1))"
   ]
  },
  {
   "cell_type": "code",
   "execution_count": 37,
   "id": "e96e954d",
   "metadata": {},
   "outputs": [],
   "source": [
    "subset_loc = df.loc[0]"
   ]
  }
 ],
 "metadata": {
  "kernelspec": {
   "display_name": "base",
   "language": "python",
   "name": "python3"
  },
  "language_info": {
   "codemirror_mode": {
    "name": "ipython",
    "version": 3
   },
   "file_extension": ".py",
   "mimetype": "text/x-python",
   "name": "python",
   "nbconvert_exporter": "python",
   "pygments_lexer": "ipython3",
   "version": "3.12.10"
  }
 },
 "nbformat": 4,
 "nbformat_minor": 5
}
