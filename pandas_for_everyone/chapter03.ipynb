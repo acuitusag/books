{
 "cells": [
  {
   "cell_type": "markdown",
   "id": "f1606eab",
   "metadata": {},
   "source": [
    "# Chapter 3: Plotting Basics\n",
    "## 3.1 Why Visualize Data?"
   ]
  },
  {
   "cell_type": "code",
   "execution_count": null,
   "id": "252d3171",
   "metadata": {},
   "outputs": [],
   "source": [
    "import seaborn as sns\n",
    "import matplotlib.pyplot as plt"
   ]
  },
  {
   "cell_type": "code",
   "execution_count": null,
   "id": "b378d598",
   "metadata": {},
   "outputs": [],
   "source": [
    "anscombe = sns.load_dataset(\"anscombe\")\n",
    "anscombe"
   ]
  },
  {
   "cell_type": "markdown",
   "id": "b32842c5",
   "metadata": {},
   "source": [
    "## 3.2 Matplotlib Basics"
   ]
  },
  {
   "cell_type": "code",
   "execution_count": null,
   "id": "1c6b9d72",
   "metadata": {},
   "outputs": [],
   "source": [
    "data_set_1 = anscombe[anscombe[\"dataset\"] == \"I\"]\n",
    "data_set_2 = anscombe[anscombe[\"dataset\"] == \"II\"]\n",
    "data_set_3 = anscombe[anscombe[\"dataset\"] == \"III\"]\n",
    "data_set_4 = anscombe[anscombe[\"dataset\"] == \"IV\"]"
   ]
  },
  {
   "cell_type": "code",
   "execution_count": null,
   "id": "867158cf",
   "metadata": {},
   "outputs": [],
   "source": [
    "plt.plot(data_set_1[\"x\"], data_set_1[\"y\"])\n",
    "plt.show()"
   ]
  },
  {
   "cell_type": "code",
   "execution_count": null,
   "id": "b9276466",
   "metadata": {},
   "outputs": [],
   "source": [
    "plt.plot(data_set_1[\"x\"], data_set_1[\"y\"], 'o')\n",
    "plt.show()"
   ]
  },
  {
   "cell_type": "markdown",
   "id": "0381dd30",
   "metadata": {},
   "source": [
    "### 3.2.1 Figure Objects and Axes Subplots"
   ]
  },
  {
   "cell_type": "code",
   "execution_count": null,
   "id": "c244ef9c",
   "metadata": {},
   "outputs": [],
   "source": [
    "fig = plt.figure()\n",
    "\n",
    "ax1 = fig.add_subplot(2, 2, 1)\n",
    "ax2 = fig.add_subplot(2, 2, 2)\n",
    "ax3 = fig.add_subplot(2, 2, 3)\n",
    "ax4 = fig.add_subplot(2, 2, 4)\n",
    "\n",
    "ax1.plot(data_set_1[\"x\"], data_set_1[\"y\"], 'o')\n",
    "ax2.plot(data_set_2[\"x\"], data_set_2[\"y\"], 'o')\n",
    "ax3.plot(data_set_3[\"x\"], data_set_3[\"y\"], 'o')\n",
    "ax4.plot(data_set_4[\"x\"], data_set_4[\"y\"], 'o')\n",
    "\n",
    "ax1.set_title(\"Dataset I\")\n",
    "ax2.set_title(\"Dataset II\") \n",
    "ax3.set_title(\"Dataset III\")\n",
    "ax4.set_title(\"Dataset IV\")\n",
    "\n",
    "fig.suptitle(\"Anscombe's Quartet\")\n",
    "plt.tight_layout()"
   ]
  },
  {
   "cell_type": "markdown",
   "id": "ceca304b",
   "metadata": {},
   "source": [
    "## 3.3 Statistical Graphics Using matplotlib"
   ]
  },
  {
   "cell_type": "code",
   "execution_count": null,
   "id": "47c39c01",
   "metadata": {},
   "outputs": [],
   "source": [
    "tips = sns.load_dataset(\"tips\")\n",
    "tips"
   ]
  },
  {
   "cell_type": "markdown",
   "id": "ec1a9a09",
   "metadata": {},
   "source": [
    "#### 3.3.1 Univariate (Single Variable) Plots"
   ]
  },
  {
   "cell_type": "code",
   "execution_count": null,
   "id": "31e275f3",
   "metadata": {},
   "outputs": [],
   "source": [
    "fig = plt.figure()\n",
    "axes = fig.add_subplot(1, 1, 1)\n",
    "axes.hist(tips[\"total_bill\"], bins=20, edgecolor='black')\n",
    "axes.set_title(\"Histogram of Total Bill\")\n",
    "axes.set_xlabel(\"Total Bill ($)\")\n",
    "axes.set_ylabel(\"Frequency\")"
   ]
  },
  {
   "cell_type": "markdown",
   "id": "291924c8",
   "metadata": {},
   "source": [
    "### 3.3.2 Bivariate (Two Variable) Plots\n",
    "#### 3.3.2.1 Scatter Plot"
   ]
  },
  {
   "cell_type": "code",
   "execution_count": null,
   "id": "d5f41187",
   "metadata": {},
   "outputs": [],
   "source": [
    "scatter_plot = plt.figure()\n",
    "axes1 = scatter_plot.add_subplot(1, 1, 1)\n",
    "\n",
    "axes1.scatter(tips[\"total_bill\"], tips[\"tip\"], alpha=0.5)\n",
    "axes1.set_title(\"Scatter Plot of Total Bill vs Tip\")\n",
    "axes1.set_xlabel(\"Total Bill ($)\")\n",
    "axes1.set_ylabel(\"Tip ($)\")"
   ]
  },
  {
   "cell_type": "markdown",
   "id": "c372f9bf",
   "metadata": {},
   "source": [
    "#### 3.3.2.2 Box Plot"
   ]
  },
  {
   "cell_type": "code",
   "execution_count": null,
   "id": "af16606f",
   "metadata": {},
   "outputs": [],
   "source": [
    "box_plot = plt.figure()\n",
    "axes1 = box_plot.add_subplot(1, 1, 1)\n",
    "\n",
    "axes1.boxplot(\n",
    "    x=[\n",
    "        tips[tips.sex == \"Female\"].tip,\n",
    "        tips[tips.sex == \"Male\"].tip\n",
    "    ],\n",
    "    labels=[\"Female\", \"Male\"]\n",
    ")\n",
    "\n",
    "axes1.set_title(\"Box Plot of Tips by Gender\")\n",
    "axes1.set_ylabel(\"Tip ($)\")\n",
    "axes1.set_xlabel('Sex')"
   ]
  },
  {
   "cell_type": "markdown",
   "id": "0c97f250",
   "metadata": {},
   "source": [
    "### 3.3.3 Multivariate (Multiple Variable) Plots"
   ]
  },
  {
   "cell_type": "code",
   "execution_count": null,
   "id": "76f5177a",
   "metadata": {},
   "outputs": [],
   "source": [
    "colors = {\n",
    "    \"Female\": \"#f1a340\", #orange\n",
    "    \"Male\": \"#998ec3\", #purple\n",
    "}\n",
    "\n",
    "scatter_plot = plt.figure()\n",
    "axes1 = scatter_plot.add_subplot(1, 1, 1)\n",
    "axes1.scatter(\n",
    "    tips[\"total_bill\"],\n",
    "    tips[\"tip\"],\n",
    "    s=tips[\"size\"] ** 2 * 10,\n",
    "    c=tips['sex'].map(colors),\n",
    "    alpha=0.5\n",
    ")\n",
    "\n",
    "axes1.set_title(\"Colored by Sex and Sized by Size\")\n",
    "axes1.set_xlabel(\"Total Bill ($)\")\n",
    "axes1.set_ylabel(\"Tip ($)\")\n",
    "\n",
    "scatter_plot.suptitle(\"Scatter Plot of Total Bill vs Tip by Size\")  "
   ]
  },
  {
   "cell_type": "markdown",
   "id": "3d4442b2",
   "metadata": {},
   "source": [
    "## 3.4 Seaborn"
   ]
  },
  {
   "cell_type": "code",
   "execution_count": null,
   "id": "b3e37606",
   "metadata": {},
   "outputs": [],
   "source": [
    "import seaborn as sns\n",
    "tips = sns.load_dataset(\"tips\")\n",
    "sns.set_context(\"paper\")"
   ]
  },
  {
   "cell_type": "markdown",
   "id": "985799d9",
   "metadata": {},
   "source": [
    "### 3.4.1 Univariate Plots with Seaborn\n",
    "#### 3.4.1.1 Histogram"
   ]
  },
  {
   "cell_type": "code",
   "execution_count": null,
   "id": "0325d79f",
   "metadata": {},
   "outputs": [],
   "source": [
    "hist, ax = plt.subplots()\n",
    "sns.histplot(data=tips, x=\"total_bill\", bins=20, edgecolor='black', ax=ax)\n",
    "ax.set_title('Total Bill Histogram')"
   ]
  },
  {
   "cell_type": "markdown",
   "id": "433a5336",
   "metadata": {},
   "source": [
    "#### 3.4.1.2 Density Plot (Kernel Density Estimation)"
   ]
  },
  {
   "cell_type": "code",
   "execution_count": null,
   "id": "047b24c8",
   "metadata": {},
   "outputs": [],
   "source": [
    "density_plot, ax = plt.subplots()\n",
    "sns.kdeplot(data=tips, x=\"total_bill\", ax=ax)\n",
    "ax.set_title('Total Bill Density Plot')\n",
    "ax.set_xlabel('Total Bill ($)')\n",
    "ax.set_ylabel('Unit Probability')"
   ]
  },
  {
   "cell_type": "markdown",
   "id": "a89561a8",
   "metadata": {},
   "source": [
    "#### 3.4.1.3 Rug Plot"
   ]
  },
  {
   "cell_type": "code",
   "execution_count": null,
   "id": "22e2c8d7",
   "metadata": {},
   "outputs": [],
   "source": [
    "rug_plot, ax = plt.subplots()\n",
    "sns.rugplot(data=tips, x=\"total_bill\", ax=ax)\n",
    "sns.histplot(data=tips, x=\"total_bill\", bins=20, edgecolor='black', ax=ax, alpha=0.3)\n",
    "ax.set_title('Total Bill Histogram with Rug Plot')\n",
    "ax.set_xlabel('Total Bill ($)')\n",
    "ax.set_ylabel('Frequency')"
   ]
  },
  {
   "cell_type": "markdown",
   "id": "0ba183fa",
   "metadata": {},
   "source": [
    "#### 3.4.1.4 Distribution Plot"
   ]
  },
  {
   "cell_type": "code",
   "execution_count": null,
   "id": "239c3ac5",
   "metadata": {},
   "outputs": [],
   "source": [
    "fig = sns.displot(data=tips, x=\"total_bill\", kde=True,\n",
    "                  fill=True, rug=True)\n",
    "fig.set_axis_labels(\"Total Bill ($)\", \"Density\")\n"
   ]
  },
  {
   "cell_type": "markdown",
   "id": "2d11a66b",
   "metadata": {},
   "source": [
    "#### 3.4.1.5 Count Plot (Bar Plot)"
   ]
  },
  {
   "cell_type": "code",
   "execution_count": 61,
   "id": "c430010b",
   "metadata": {},
   "outputs": [
    {
     "name": "stderr",
     "output_type": "stream",
     "text": [
      "C:\\Users\\raydn\\AppData\\Local\\Temp\\ipykernel_127928\\4149501498.py:2: FutureWarning: \n",
      "\n",
      "Passing `palette` without assigning `hue` is deprecated and will be removed in v0.14.0. Assign the `x` variable to `hue` and set `legend=False` for the same effect.\n",
      "\n",
      "  sns.countplot(data=tips, x=\"day\", ax=ax, palette='viridis')\n"
     ]
    },
    {
     "data": {
      "text/plain": [
       "Text(0, 0.5, 'Count')"
      ]
     },
     "execution_count": 61,
     "metadata": {},
     "output_type": "execute_result"
    },
    {
     "data": {
      "image/png": "[encoded data removed]",
      "text/plain": [
       "<Figure size 640x480 with 1 Axes>"
      ]
     },
     "metadata": {},
     "output_type": "display_data"
    }
   ],
   "source": [
    "count, ax = plt.subplots()\n",
    "sns.countplot(data=tips, x=\"day\", ax=ax, palette='viridis')\n",
    "ax.set_title('Count of Tips by Day')\n",
    "ax.set_xlabel('Day of the Week')\n",
    "ax.set_ylabel('Count')\n"
   ]
  }
 ],
 "metadata": {
  "kernelspec": {
   "display_name": "base",
   "language": "python",
   "name": "python3"
  },
  "language_info": {
   "codemirror_mode": {
    "name": "ipython",
    "version": 3
   },
   "file_extension": ".py",
   "mimetype": "text/x-python",
   "name": "python",
   "nbconvert_exporter": "python",
   "pygments_lexer": "ipython3",
   "version": "3.12.11"
  }
 },
 "nbformat": 4,
 "nbformat_minor": 5
}
