{
 "cells": [
  {
   "cell_type": "markdown",
   "id": "f769e8cf",
   "metadata": {},
   "source": [
    "# Chapter 2: Pandas Data Structures Basics"
   ]
  },
  {
   "cell_type": "code",
   "execution_count": null,
   "id": "486d3285",
   "metadata": {},
   "outputs": [],
   "source": [
    "import pandas as pd"
   ]
  },
  {
   "cell_type": "markdown",
   "id": "4f3c5c5c",
   "metadata": {},
   "source": [
    "## 2.1 Create Your Own Data\n",
    "### 2.1.1 Create a Series"
   ]
  },
  {
   "cell_type": "markdown",
   "id": "ea555e59",
   "metadata": {},
   "source": [
    "This creates a series with both entries as strings, even though one is a number:\n"
   ]
  },
  {
   "cell_type": "code",
   "execution_count": null,
   "id": "cd7bf9b4",
   "metadata": {},
   "outputs": [],
   "source": [
    "s = pd.Series([\"banana\", 42])\n",
    "print(type(s))\n",
    "print(s[0], type(s[0]))\n",
    "print(s[1], type(s[1]))\n",
    "print(s.info())\n",
    "s\n"
   ]
  },
  {
   "cell_type": "code",
   "execution_count": null,
   "id": "6e42defc",
   "metadata": {},
   "outputs": [],
   "source": [
    "s = pd.Series(\n",
    "    data=[\"Wes McKinney\", \"Creator of Pandas\"],\n",
    "    index=[\"Person\", \"Who\"]\n",
    ")\n",
    "print(type(s))\n",
    "s"
   ]
  },
  {
   "cell_type": "markdown",
   "id": "5f13d08b",
   "metadata": {},
   "source": [
    "### 2.1.2 Create a DataFrame"
   ]
  },
  {
   "cell_type": "code",
   "execution_count": null,
   "id": "ab0d9105",
   "metadata": {},
   "outputs": [],
   "source": [
    "scientists = pd.DataFrame(\n",
    "    {\n",
    "        \"Name\": [\"Rosalind Franklin\", \"William Gosset\"],\n",
    "        \"Occupation\": [\"Chemist\", \"Statistician\"],\n",
    "        \"Born\": [\"1920-07-25\", \"1876-06-13\"],\n",
    "        \"Died\": [\"1958-04-16\", \"1937-10-16\"],\n",
    "        \"Age\": [37, 61]\n",
    "    }\n",
    ")\n",
    "scientists"
   ]
  },
  {
   "cell_type": "code",
   "execution_count": null,
   "id": "d94f8486",
   "metadata": {},
   "outputs": [],
   "source": [
    "scientists = pd.DataFrame(\n",
    "    data={\n",
    "        \"Name\": [\"Rosalind Franklin\", \"William Gosset\"],\n",
    "        \"Occupation\": [\"Chemist\", \"Statistician\"],\n",
    "        \"Born\": [\"1920-07-25\", \"1876-06-13\"],\n",
    "        \"Died\": [\"1958-04-16\", \"1937-10-16\"],\n",
    "        \"Age\": [37, 61]\n",
    "    },\n",
    "    index=[\"Rosalind Franklin\", \"William Gosset\"],\n",
    "    columns=[\"Occupation\", \"Born\", \"Died\", \"Age\"]\n",
    ")\n",
    "scientists"
   ]
  },
  {
   "cell_type": "markdown",
   "id": "38beecaa",
   "metadata": {},
   "source": [
    "## 2.2 The Series"
   ]
  },
  {
   "cell_type": "markdown",
   "id": "4f1c9990",
   "metadata": {},
   "source": [
    "One set of brackets gives a Series."
   ]
  },
  {
   "cell_type": "code",
   "execution_count": null,
   "id": "c85d87c8",
   "metadata": {},
   "outputs": [],
   "source": [
    "first_row = scientists.loc[\"William Gosset\"]\n",
    "print(type(first_row))\n",
    "first_row"
   ]
  },
  {
   "cell_type": "markdown",
   "id": "04a1e8f2",
   "metadata": {},
   "source": [
    "Two sets of brackets give a DataFrame."
   ]
  },
  {
   "cell_type": "code",
   "execution_count": null,
   "id": "a7a77586",
   "metadata": {},
   "outputs": [],
   "source": [
    "first_row = scientists.loc[[\"William Gosset\"]]\n",
    "print(type(first_row))\n",
    "first_row"
   ]
  },
  {
   "cell_type": "code",
   "execution_count": null,
   "id": "4d3d934c",
   "metadata": {},
   "outputs": [],
   "source": [
    "print(first_row.index)\n",
    "print(first_row.values)"
   ]
  }
 ],
 "metadata": {
  "kernelspec": {
   "display_name": "base",
   "language": "python",
   "name": "python3"
  },
  "language_info": {
   "codemirror_mode": {
    "name": "ipython",
    "version": 3
   },
   "file_extension": ".py",
   "mimetype": "text/x-python",
   "name": "python",
   "nbconvert_exporter": "python",
   "pygments_lexer": "ipython3",
   "version": "3.12.11"
  }
 },
 "nbformat": 4,
 "nbformat_minor": 5
}
